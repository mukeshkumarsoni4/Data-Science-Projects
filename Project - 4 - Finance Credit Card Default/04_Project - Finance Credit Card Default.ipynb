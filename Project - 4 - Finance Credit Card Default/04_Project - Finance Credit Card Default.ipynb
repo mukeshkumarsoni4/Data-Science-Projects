{
 "cells": [
  {
   "cell_type": "markdown",
   "id": "3a1e8009",
   "metadata": {},
   "source": [
    "## Introduction"
   ]
  },
  {
   "cell_type": "markdown",
   "id": "a0cc8870",
   "metadata": {},
   "source": [
    "## Project - Finance"
   ]
  },
  {
   "cell_type": "markdown",
   "id": "40106bc6",
   "metadata": {},
   "source": [
    "Predict whether a credit card user will default on monthly credit card payment based on annual income and monthly credit card balance"
   ]
  },
  {
   "cell_type": "markdown",
   "id": "3b09289d",
   "metadata": {},
   "source": [
    "## Project Steps Followed"
   ]
  },
  {
   "cell_type": "markdown",
   "id": "e2980fbd",
   "metadata": {},
   "source": [
    "1. Define Project Goals/Objective\n",
    "2. Data Retrieval\n",
    "3. Data Cleansing\n",
    "4. Exploratory Data Analysis\n",
    "5. Data Modeling\n",
    "6. Result Analysis"
   ]
  },
  {
   "cell_type": "markdown",
   "id": "dca6c31a",
   "metadata": {},
   "source": [
    "## About the Project"
   ]
  },
  {
   "cell_type": "markdown",
   "id": "038cb541",
   "metadata": {},
   "source": [
    "We have information about credit card balance and annual income for 10,000  individuals. Based on the data, we need to predict whether the individual will default on a monthly credit card balance"
   ]
  },
  {
   "cell_type": "markdown",
   "id": "c31bfc36",
   "metadata": {},
   "source": [
    "## Define Research Goals"
   ]
  },
  {
   "cell_type": "markdown",
   "id": "ee2aa10c",
   "metadata": {},
   "source": [
    "Predict whether a credit card user will default on monthly credit card payment based on annual income and monthly credit card balance"
   ]
  },
  {
   "cell_type": "markdown",
   "id": "a88a2f48",
   "metadata": {},
   "source": [
    "## Data Set"
   ]
  },
  {
   "cell_type": "markdown",
   "id": "18ca0cea",
   "metadata": {},
   "source": [
    "We have data about credit card balance and annual income for 10,000 individuals"
   ]
  },
  {
   "cell_type": "markdown",
   "id": "417ac9d6",
   "metadata": {},
   "source": [
    "## Load Data and Analysis"
   ]
  },
  {
   "cell_type": "code",
   "execution_count": null,
   "id": "71e94f04",
   "metadata": {},
   "outputs": [],
   "source": [
    "import pandas as pd"
   ]
  },
  {
   "cell_type": "code",
   "execution_count": 182,
   "id": "1de0cced",
   "metadata": {},
   "outputs": [],
   "source": [
    "import matplotlib.gridspec as gridspec"
   ]
  },
  {
   "cell_type": "code",
   "execution_count": 183,
   "id": "448fb8dd",
   "metadata": {},
   "outputs": [],
   "source": [
    "import numpy as np"
   ]
  },
  {
   "cell_type": "code",
   "execution_count": 184,
   "id": "f7996469",
   "metadata": {},
   "outputs": [],
   "source": [
    "import matplotlib as mpl"
   ]
  },
  {
   "cell_type": "code",
   "execution_count": 185,
   "id": "759b7e52",
   "metadata": {},
   "outputs": [],
   "source": [
    "import matplotlib.pyplot as plt"
   ]
  },
  {
   "cell_type": "code",
   "execution_count": 186,
   "id": "2ec2f043",
   "metadata": {},
   "outputs": [],
   "source": [
    "import seaborn as sns"
   ]
  },
  {
   "cell_type": "code",
   "execution_count": 195,
   "id": "551bb7fd",
   "metadata": {},
   "outputs": [
    {
     "name": "stderr",
     "output_type": "stream",
     "text": [
      "C:\\Users\\mukes\\AppData\\Local\\Temp\\ipykernel_13620\\1193657973.py:1: MatplotlibDeprecationWarning: The seaborn styles shipped by Matplotlib are deprecated since 3.6, as they no longer correspond to the styles shipped by seaborn. However, they will remain available as 'seaborn-v0_8-<style>'. Alternatively, directly use the seaborn API instead.\n",
      "  plt.style.use('seaborn-white')\n"
     ]
    }
   ],
   "source": [
    "plt.style.use('seaborn-white')"
   ]
  },
  {
   "cell_type": "code",
   "execution_count": 196,
   "id": "ee93af13",
   "metadata": {},
   "outputs": [
    {
     "name": "stderr",
     "output_type": "stream",
     "text": [
      "C:\\Users\\mukes\\anaconda3\\Lib\\site-packages\\openpyxl\\styles\\stylesheet.py:226: UserWarning: Workbook contains no default style, apply openpyxl's default\n",
      "  warn(\"Workbook contains no default style, apply openpyxl's default\")\n"
     ]
    }
   ],
   "source": [
    "ccdef = pd.read_excel('Default.xlsx')"
   ]
  },
  {
   "cell_type": "code",
   "execution_count": 197,
   "id": "09f2c639",
   "metadata": {},
   "outputs": [
    {
     "data": {
      "text/html": [
       "<div>\n",
       "<style scoped>\n",
       "    .dataframe tbody tr th:only-of-type {\n",
       "        vertical-align: middle;\n",
       "    }\n",
       "\n",
       "    .dataframe tbody tr th {\n",
       "        vertical-align: top;\n",
       "    }\n",
       "\n",
       "    .dataframe thead th {\n",
       "        text-align: right;\n",
       "    }\n",
       "</style>\n",
       "<table border=\"1\" class=\"dataframe\">\n",
       "  <thead>\n",
       "    <tr style=\"text-align: right;\">\n",
       "      <th></th>\n",
       "      <th>Unnamed: 0</th>\n",
       "      <th>default</th>\n",
       "      <th>student</th>\n",
       "      <th>balance</th>\n",
       "      <th>income</th>\n",
       "    </tr>\n",
       "  </thead>\n",
       "  <tbody>\n",
       "    <tr>\n",
       "      <th>0</th>\n",
       "      <td>1</td>\n",
       "      <td>No</td>\n",
       "      <td>No</td>\n",
       "      <td>729.526495</td>\n",
       "      <td>44361.625074</td>\n",
       "    </tr>\n",
       "    <tr>\n",
       "      <th>1</th>\n",
       "      <td>2</td>\n",
       "      <td>No</td>\n",
       "      <td>Yes</td>\n",
       "      <td>817.180407</td>\n",
       "      <td>12106.134700</td>\n",
       "    </tr>\n",
       "    <tr>\n",
       "      <th>2</th>\n",
       "      <td>3</td>\n",
       "      <td>No</td>\n",
       "      <td>No</td>\n",
       "      <td>1073.549164</td>\n",
       "      <td>31767.138947</td>\n",
       "    </tr>\n",
       "    <tr>\n",
       "      <th>3</th>\n",
       "      <td>4</td>\n",
       "      <td>No</td>\n",
       "      <td>No</td>\n",
       "      <td>529.250605</td>\n",
       "      <td>35704.493935</td>\n",
       "    </tr>\n",
       "    <tr>\n",
       "      <th>4</th>\n",
       "      <td>5</td>\n",
       "      <td>No</td>\n",
       "      <td>No</td>\n",
       "      <td>785.655883</td>\n",
       "      <td>38463.495879</td>\n",
       "    </tr>\n",
       "  </tbody>\n",
       "</table>\n",
       "</div>"
      ],
      "text/plain": [
       "   Unnamed: 0 default student      balance        income\n",
       "0           1      No      No   729.526495  44361.625074\n",
       "1           2      No     Yes   817.180407  12106.134700\n",
       "2           3      No      No  1073.549164  31767.138947\n",
       "3           4      No      No   529.250605  35704.493935\n",
       "4           5      No      No   785.655883  38463.495879"
      ]
     },
     "execution_count": 197,
     "metadata": {},
     "output_type": "execute_result"
    }
   ],
   "source": [
    "ccdef.head()"
   ]
  },
  {
   "cell_type": "code",
   "execution_count": 198,
   "id": "ca0749bb",
   "metadata": {},
   "outputs": [
    {
     "data": {
      "text/plain": [
       "(10000, 5)"
      ]
     },
     "execution_count": 198,
     "metadata": {},
     "output_type": "execute_result"
    }
   ],
   "source": [
    "ccdef.shape"
   ]
  },
  {
   "cell_type": "code",
   "execution_count": 199,
   "id": "2822b0f2",
   "metadata": {},
   "outputs": [
    {
     "name": "stdout",
     "output_type": "stream",
     "text": [
      "<class 'pandas.core.frame.DataFrame'>\n",
      "RangeIndex: 10000 entries, 0 to 9999\n",
      "Data columns (total 5 columns):\n",
      " #   Column      Non-Null Count  Dtype  \n",
      "---  ------      --------------  -----  \n",
      " 0   Unnamed: 0  10000 non-null  int64  \n",
      " 1   default     10000 non-null  object \n",
      " 2   student     10000 non-null  object \n",
      " 3   balance     10000 non-null  float64\n",
      " 4   income      10000 non-null  float64\n",
      "dtypes: float64(2), int64(1), object(2)\n",
      "memory usage: 390.8+ KB\n"
     ]
    }
   ],
   "source": [
    "ccdef.info()"
   ]
  },
  {
   "cell_type": "markdown",
   "id": "1fea5c20",
   "metadata": {},
   "source": [
    "Our observations are as follows\n",
    "\n",
    "1. NaN values do not present in the data set. Because of the Non-Null Count and number of rows in the dataset match.\n",
    "2. There are 3 Input Variables and 1 Output Variable (default)\n",
    "3. The data type of balance and income variables is float64. The data type of out variable (default) and student is object.\n",
    "4. Shows two input variables continuous (quantitative) data types.\n",
    "5. Output variable as well as 1 input variable (student) are categorical (qualitative) data types\n",
    "6. None of the columns contain the Null Values"
   ]
  },
  {
   "cell_type": "code",
   "execution_count": 200,
   "id": "49abec77",
   "metadata": {},
   "outputs": [
    {
     "data": {
      "text/plain": [
       "Unnamed: 0    0\n",
       "default       0\n",
       "student       0\n",
       "balance       0\n",
       "income        0\n",
       "dtype: int64"
      ]
     },
     "execution_count": 200,
     "metadata": {},
     "output_type": "execute_result"
    }
   ],
   "source": [
    "ccdef.isnull().sum()"
   ]
  },
  {
   "cell_type": "markdown",
   "id": "79cd26c9",
   "metadata": {},
   "source": [
    "## Exploratory Data Analysis"
   ]
  },
  {
   "cell_type": "markdown",
   "id": "2380aefd",
   "metadata": {},
   "source": [
    "### Statistical Analysis"
   ]
  },
  {
   "cell_type": "code",
   "execution_count": 201,
   "id": "a600316a",
   "metadata": {},
   "outputs": [
    {
     "data": {
      "text/html": [
       "<div>\n",
       "<style scoped>\n",
       "    .dataframe tbody tr th:only-of-type {\n",
       "        vertical-align: middle;\n",
       "    }\n",
       "\n",
       "    .dataframe tbody tr th {\n",
       "        vertical-align: top;\n",
       "    }\n",
       "\n",
       "    .dataframe thead th {\n",
       "        text-align: right;\n",
       "    }\n",
       "</style>\n",
       "<table border=\"1\" class=\"dataframe\">\n",
       "  <thead>\n",
       "    <tr style=\"text-align: right;\">\n",
       "      <th></th>\n",
       "      <th>Unnamed: 0</th>\n",
       "      <th>balance</th>\n",
       "      <th>income</th>\n",
       "    </tr>\n",
       "  </thead>\n",
       "  <tbody>\n",
       "    <tr>\n",
       "      <th>count</th>\n",
       "      <td>10000.00000</td>\n",
       "      <td>10000.000000</td>\n",
       "      <td>10000.000000</td>\n",
       "    </tr>\n",
       "    <tr>\n",
       "      <th>mean</th>\n",
       "      <td>5000.50000</td>\n",
       "      <td>835.374886</td>\n",
       "      <td>33516.981876</td>\n",
       "    </tr>\n",
       "    <tr>\n",
       "      <th>std</th>\n",
       "      <td>2886.89568</td>\n",
       "      <td>483.714985</td>\n",
       "      <td>13336.639563</td>\n",
       "    </tr>\n",
       "    <tr>\n",
       "      <th>min</th>\n",
       "      <td>1.00000</td>\n",
       "      <td>0.000000</td>\n",
       "      <td>771.967729</td>\n",
       "    </tr>\n",
       "    <tr>\n",
       "      <th>25%</th>\n",
       "      <td>2500.75000</td>\n",
       "      <td>481.731105</td>\n",
       "      <td>21340.462903</td>\n",
       "    </tr>\n",
       "    <tr>\n",
       "      <th>50%</th>\n",
       "      <td>5000.50000</td>\n",
       "      <td>823.636973</td>\n",
       "      <td>34552.644802</td>\n",
       "    </tr>\n",
       "    <tr>\n",
       "      <th>75%</th>\n",
       "      <td>7500.25000</td>\n",
       "      <td>1166.308386</td>\n",
       "      <td>43807.729272</td>\n",
       "    </tr>\n",
       "    <tr>\n",
       "      <th>max</th>\n",
       "      <td>10000.00000</td>\n",
       "      <td>2654.322576</td>\n",
       "      <td>73554.233495</td>\n",
       "    </tr>\n",
       "  </tbody>\n",
       "</table>\n",
       "</div>"
      ],
      "text/plain": [
       "        Unnamed: 0       balance        income\n",
       "count  10000.00000  10000.000000  10000.000000\n",
       "mean    5000.50000    835.374886  33516.981876\n",
       "std     2886.89568    483.714985  13336.639563\n",
       "min        1.00000      0.000000    771.967729\n",
       "25%     2500.75000    481.731105  21340.462903\n",
       "50%     5000.50000    823.636973  34552.644802\n",
       "75%     7500.25000   1166.308386  43807.729272\n",
       "max    10000.00000   2654.322576  73554.233495"
      ]
     },
     "execution_count": 201,
     "metadata": {},
     "output_type": "execute_result"
    }
   ],
   "source": [
    "ccdef.describe()"
   ]
  },
  {
   "cell_type": "markdown",
   "id": "7b1098e2",
   "metadata": {},
   "source": [
    "We can see that the min value of balance is zero. We need to confirm how many zero values existing in the dataset.\n",
    "\n",
    "For all other columns, the data cleaning is not required. However for categorical variables, the encoding is required"
   ]
  },
  {
   "cell_type": "code",
   "execution_count": 202,
   "id": "a2af68c7",
   "metadata": {},
   "outputs": [
    {
     "data": {
      "text/plain": [
       "499"
      ]
     },
     "execution_count": 202,
     "metadata": {},
     "output_type": "execute_result"
    }
   ],
   "source": [
    "(ccdef.balance == 0).sum(axis=0)"
   ]
  },
  {
   "cell_type": "markdown",
   "id": "2b041824",
   "metadata": {},
   "source": [
    "499 rows of the balance variable contain the zero value, which is possible. Hence we conclude the data cleaning steps are not required for the balance variabl"
   ]
  },
  {
   "cell_type": "markdown",
   "id": "b003d07d",
   "metadata": {},
   "source": [
    "### Categorical Variable Analysis"
   ]
  },
  {
   "cell_type": "code",
   "execution_count": 203,
   "id": "2c255556",
   "metadata": {},
   "outputs": [
    {
     "data": {
      "text/plain": [
       "student\n",
       "No     7056\n",
       "Yes    2944\n",
       "Name: count, dtype: int64"
      ]
     },
     "execution_count": 203,
     "metadata": {},
     "output_type": "execute_result"
    }
   ],
   "source": [
    "ccdef.student.value_counts()"
   ]
  },
  {
   "cell_type": "markdown",
   "id": "6fd90473",
   "metadata": {},
   "source": [
    "This confirms that the predictor student has only 2 possible values. Yes and No. The distribution of students vs non-students is given above."
   ]
  },
  {
   "cell_type": "markdown",
   "id": "0df3a75b",
   "metadata": {},
   "source": [
    "### Response Variable Analysis"
   ]
  },
  {
   "cell_type": "code",
   "execution_count": 204,
   "id": "f2dae2b5",
   "metadata": {},
   "outputs": [
    {
     "data": {
      "text/plain": [
       "default\n",
       "No     9667\n",
       "Yes     333\n",
       "Name: count, dtype: int64"
      ]
     },
     "execution_count": 204,
     "metadata": {},
     "output_type": "execute_result"
    }
   ],
   "source": [
    "ccdef.default.value_counts()"
   ]
  },
  {
   "cell_type": "markdown",
   "id": "a165daf8",
   "metadata": {},
   "source": [
    "This confirms that the response variable default has only 2 possible values. Yes and No. Data is highly skewed. Only  of the individuals in training data defaulted."
   ]
  },
  {
   "cell_type": "markdown",
   "id": "af899c1f",
   "metadata": {},
   "source": [
    "### Encode Categorical Variables"
   ]
  },
  {
   "cell_type": "markdown",
   "id": "1bece339",
   "metadata": {},
   "source": [
    "Most machine learning models accept the numerical data only. It is necessary to pre-process the categorical variables. We need to convert the categorical variables into numbers. For any machine learning project, converting categorical data is an unavoidable activity."
   ]
  },
  {
   "cell_type": "code",
   "execution_count": 205,
   "id": "a4184fef",
   "metadata": {},
   "outputs": [],
   "source": [
    "ccdef['default2'] = ccdef.default.factorize()[0]"
   ]
  },
  {
   "cell_type": "code",
   "execution_count": 206,
   "id": "ed4def34",
   "metadata": {},
   "outputs": [],
   "source": [
    "ccdef['student2'] = ccdef.default.factorize()[0]"
   ]
  },
  {
   "cell_type": "code",
   "execution_count": 207,
   "id": "adab15df",
   "metadata": {},
   "outputs": [
    {
     "data": {
      "text/html": [
       "<div>\n",
       "<style scoped>\n",
       "    .dataframe tbody tr th:only-of-type {\n",
       "        vertical-align: middle;\n",
       "    }\n",
       "\n",
       "    .dataframe tbody tr th {\n",
       "        vertical-align: top;\n",
       "    }\n",
       "\n",
       "    .dataframe thead th {\n",
       "        text-align: right;\n",
       "    }\n",
       "</style>\n",
       "<table border=\"1\" class=\"dataframe\">\n",
       "  <thead>\n",
       "    <tr style=\"text-align: right;\">\n",
       "      <th></th>\n",
       "      <th>Unnamed: 0</th>\n",
       "      <th>default</th>\n",
       "      <th>student</th>\n",
       "      <th>balance</th>\n",
       "      <th>income</th>\n",
       "      <th>default2</th>\n",
       "      <th>student2</th>\n",
       "    </tr>\n",
       "  </thead>\n",
       "  <tbody>\n",
       "    <tr>\n",
       "      <th>0</th>\n",
       "      <td>1</td>\n",
       "      <td>No</td>\n",
       "      <td>No</td>\n",
       "      <td>729.526495</td>\n",
       "      <td>44361.625074</td>\n",
       "      <td>0</td>\n",
       "      <td>0</td>\n",
       "    </tr>\n",
       "    <tr>\n",
       "      <th>1</th>\n",
       "      <td>2</td>\n",
       "      <td>No</td>\n",
       "      <td>Yes</td>\n",
       "      <td>817.180407</td>\n",
       "      <td>12106.134700</td>\n",
       "      <td>0</td>\n",
       "      <td>0</td>\n",
       "    </tr>\n",
       "    <tr>\n",
       "      <th>2</th>\n",
       "      <td>3</td>\n",
       "      <td>No</td>\n",
       "      <td>No</td>\n",
       "      <td>1073.549164</td>\n",
       "      <td>31767.138947</td>\n",
       "      <td>0</td>\n",
       "      <td>0</td>\n",
       "    </tr>\n",
       "  </tbody>\n",
       "</table>\n",
       "</div>"
      ],
      "text/plain": [
       "   Unnamed: 0 default student      balance        income  default2  student2\n",
       "0           1      No      No   729.526495  44361.625074         0         0\n",
       "1           2      No     Yes   817.180407  12106.134700         0         0\n",
       "2           3      No      No  1073.549164  31767.138947         0         0"
      ]
     },
     "execution_count": 207,
     "metadata": {},
     "output_type": "execute_result"
    }
   ],
   "source": [
    "ccdef.head(3)"
   ]
  },
  {
   "cell_type": "markdown",
   "id": "4af99139",
   "metadata": {},
   "source": [
    "### Graphical Representation"
   ]
  },
  {
   "cell_type": "markdown",
   "id": "be513402",
   "metadata": {},
   "source": [
    "\n",
    "Relationship between balance and income and the relationship between default and balance, and default and income, has been plotted.\n",
    "\n",
    "We create a new data frame, ccdef_df, that includes 15% data for non defaulters and whole data for defaulters"
   ]
  },
  {
   "cell_type": "code",
   "execution_count": null,
   "id": "e1995312",
   "metadata": {},
   "outputs": [],
   "source": [
    "ccdef_df = ccdef[ccdef.default2 == 0].sample(frac=0.15)"
   ]
  },
  {
   "cell_type": "code",
   "execution_count": 228,
   "id": "9a4be060",
   "metadata": {},
   "outputs": [],
   "source": [
    "ccdef_dfyes = ccdef[ccdef.default2 == 1]"
   ]
  },
  {
   "cell_type": "code",
   "execution_count": 229,
   "id": "05d3fccd",
   "metadata": {},
   "outputs": [],
   "source": [
    "result_df = pd.concat([ccdef_dfno, ccdef_dfyes], axis=0)"
   ]
  },
  {
   "cell_type": "code",
   "execution_count": 236,
   "id": "29941b2f",
   "metadata": {},
   "outputs": [
    {
     "name": "stdout",
     "output_type": "stream",
     "text": [
      "Using matplotlib backend: QtAgg\n"
     ]
    }
   ],
   "source": [
    "%matplotlib"
   ]
  },
  {
   "cell_type": "code",
   "execution_count": 237,
   "id": "924d7d7b",
   "metadata": {},
   "outputs": [],
   "source": [
    "fig = plt.figure(figsize=(12,5))"
   ]
  },
  {
   "cell_type": "code",
   "execution_count": 238,
   "id": "453ebe67",
   "metadata": {},
   "outputs": [],
   "source": [
    "gs = mpl.gridspec.GridSpec(1, 4)"
   ]
  },
  {
   "cell_type": "code",
   "execution_count": 239,
   "id": "d0f98c82",
   "metadata": {},
   "outputs": [],
   "source": [
    "ax1 = plt.subplot(gs[0,:2])"
   ]
  },
  {
   "cell_type": "code",
   "execution_count": 240,
   "id": "988eb45c",
   "metadata": {},
   "outputs": [],
   "source": [
    "ax2 = plt.subplot(gs[0,2:3])"
   ]
  },
  {
   "cell_type": "code",
   "execution_count": 241,
   "id": "b8cce7b9",
   "metadata": {},
   "outputs": [],
   "source": [
    "ax3 = plt.subplot(gs[0,3:4])"
   ]
  },
  {
   "cell_type": "code",
   "execution_count": 250,
   "id": "509a807e",
   "metadata": {},
   "outputs": [
    {
     "data": {
      "text/plain": [
       "<matplotlib.collections.PathCollection at 0x22d2588ee10>"
      ]
     },
     "execution_count": 250,
     "metadata": {},
     "output_type": "execute_result"
    },
    {
     "name": "stderr",
     "output_type": "stream",
     "text": [
      "Traceback (most recent call last):\n",
      "  File \"C:\\Users\\mukes\\AppData\\Roaming\\Python\\Python311\\site-packages\\matplotlib\\backends\\backend_qt.py\", line 468, in _draw_idle\n",
      "    self.draw()\n",
      "  File \"C:\\Users\\mukes\\AppData\\Roaming\\Python\\Python311\\site-packages\\matplotlib\\backends\\backend_agg.py\", line 400, in draw\n",
      "    self.figure.draw(self.renderer)\n",
      "  File \"C:\\Users\\mukes\\AppData\\Roaming\\Python\\Python311\\site-packages\\matplotlib\\artist.py\", line 95, in draw_wrapper\n",
      "    result = draw(artist, renderer, *args, **kwargs)\n",
      "             ^^^^^^^^^^^^^^^^^^^^^^^^^^^^^^^^^^^^^^^\n",
      "  File \"C:\\Users\\mukes\\AppData\\Roaming\\Python\\Python311\\site-packages\\matplotlib\\artist.py\", line 72, in draw_wrapper\n",
      "    return draw(artist, renderer)\n",
      "           ^^^^^^^^^^^^^^^^^^^^^^\n",
      "  File \"C:\\Users\\mukes\\AppData\\Roaming\\Python\\Python311\\site-packages\\matplotlib\\figure.py\", line 3175, in draw\n",
      "    mimage._draw_list_compositing_images(\n",
      "  File \"C:\\Users\\mukes\\AppData\\Roaming\\Python\\Python311\\site-packages\\matplotlib\\image.py\", line 131, in _draw_list_compositing_images\n",
      "    a.draw(renderer)\n",
      "  File \"C:\\Users\\mukes\\AppData\\Roaming\\Python\\Python311\\site-packages\\matplotlib\\artist.py\", line 72, in draw_wrapper\n",
      "    return draw(artist, renderer)\n",
      "           ^^^^^^^^^^^^^^^^^^^^^^\n",
      "  File \"C:\\Users\\mukes\\AppData\\Roaming\\Python\\Python311\\site-packages\\matplotlib\\axes\\_base.py\", line 3064, in draw\n",
      "    mimage._draw_list_compositing_images(\n",
      "  File \"C:\\Users\\mukes\\AppData\\Roaming\\Python\\Python311\\site-packages\\matplotlib\\image.py\", line 131, in _draw_list_compositing_images\n",
      "    a.draw(renderer)\n",
      "  File \"C:\\Users\\mukes\\AppData\\Roaming\\Python\\Python311\\site-packages\\matplotlib\\artist.py\", line 72, in draw_wrapper\n",
      "    return draw(artist, renderer)\n",
      "           ^^^^^^^^^^^^^^^^^^^^^^\n",
      "  File \"C:\\Users\\mukes\\AppData\\Roaming\\Python\\Python311\\site-packages\\matplotlib\\collections.py\", line 972, in draw\n",
      "    super().draw(renderer)\n",
      "  File \"C:\\Users\\mukes\\AppData\\Roaming\\Python\\Python311\\site-packages\\matplotlib\\artist.py\", line 72, in draw_wrapper\n",
      "    return draw(artist, renderer)\n",
      "           ^^^^^^^^^^^^^^^^^^^^^^\n",
      "  File \"C:\\Users\\mukes\\AppData\\Roaming\\Python\\Python311\\site-packages\\matplotlib\\collections.py\", line 405, in draw\n",
      "    renderer.draw_markers(\n",
      "TypeError: must be real number, not str\n"
     ]
    }
   ],
   "source": [
    "ax1.scatter(ccdef_df[ccdef_df.default == 'Yes'].balance, ccdef_df[ccdef_df.default == 'Yes'].income, s=40, c='orange', marker='+', linewidths=1) "
   ]
  },
  {
   "cell_type": "code",
   "execution_count": 251,
   "id": "69828ac3",
   "metadata": {},
   "outputs": [
    {
     "data": {
      "text/plain": [
       "<matplotlib.collections.PathCollection at 0x22d2588d790>"
      ]
     },
     "execution_count": 251,
     "metadata": {},
     "output_type": "execute_result"
    },
    {
     "name": "stderr",
     "output_type": "stream",
     "text": [
      "Traceback (most recent call last):\n",
      "  File \"C:\\Users\\mukes\\AppData\\Roaming\\Python\\Python311\\site-packages\\matplotlib\\backends\\backend_qt.py\", line 468, in _draw_idle\n",
      "    self.draw()\n",
      "  File \"C:\\Users\\mukes\\AppData\\Roaming\\Python\\Python311\\site-packages\\matplotlib\\backends\\backend_agg.py\", line 400, in draw\n",
      "    self.figure.draw(self.renderer)\n",
      "  File \"C:\\Users\\mukes\\AppData\\Roaming\\Python\\Python311\\site-packages\\matplotlib\\artist.py\", line 95, in draw_wrapper\n",
      "    result = draw(artist, renderer, *args, **kwargs)\n",
      "             ^^^^^^^^^^^^^^^^^^^^^^^^^^^^^^^^^^^^^^^\n",
      "  File \"C:\\Users\\mukes\\AppData\\Roaming\\Python\\Python311\\site-packages\\matplotlib\\artist.py\", line 72, in draw_wrapper\n",
      "    return draw(artist, renderer)\n",
      "           ^^^^^^^^^^^^^^^^^^^^^^\n",
      "  File \"C:\\Users\\mukes\\AppData\\Roaming\\Python\\Python311\\site-packages\\matplotlib\\figure.py\", line 3175, in draw\n",
      "    mimage._draw_list_compositing_images(\n",
      "  File \"C:\\Users\\mukes\\AppData\\Roaming\\Python\\Python311\\site-packages\\matplotlib\\image.py\", line 131, in _draw_list_compositing_images\n",
      "    a.draw(renderer)\n",
      "  File \"C:\\Users\\mukes\\AppData\\Roaming\\Python\\Python311\\site-packages\\matplotlib\\artist.py\", line 72, in draw_wrapper\n",
      "    return draw(artist, renderer)\n",
      "           ^^^^^^^^^^^^^^^^^^^^^^\n",
      "  File \"C:\\Users\\mukes\\AppData\\Roaming\\Python\\Python311\\site-packages\\matplotlib\\axes\\_base.py\", line 3064, in draw\n",
      "    mimage._draw_list_compositing_images(\n",
      "  File \"C:\\Users\\mukes\\AppData\\Roaming\\Python\\Python311\\site-packages\\matplotlib\\image.py\", line 131, in _draw_list_compositing_images\n",
      "    a.draw(renderer)\n",
      "  File \"C:\\Users\\mukes\\AppData\\Roaming\\Python\\Python311\\site-packages\\matplotlib\\artist.py\", line 72, in draw_wrapper\n",
      "    return draw(artist, renderer)\n",
      "           ^^^^^^^^^^^^^^^^^^^^^^\n",
      "  File \"C:\\Users\\mukes\\AppData\\Roaming\\Python\\Python311\\site-packages\\matplotlib\\collections.py\", line 972, in draw\n",
      "    super().draw(renderer)\n",
      "  File \"C:\\Users\\mukes\\AppData\\Roaming\\Python\\Python311\\site-packages\\matplotlib\\artist.py\", line 72, in draw_wrapper\n",
      "    return draw(artist, renderer)\n",
      "           ^^^^^^^^^^^^^^^^^^^^^^\n",
      "  File \"C:\\Users\\mukes\\AppData\\Roaming\\Python\\Python311\\site-packages\\matplotlib\\collections.py\", line 405, in draw\n",
      "    renderer.draw_markers(\n",
      "TypeError: must be real number, not str\n"
     ]
    }
   ],
   "source": [
    "ax1.scatter(ccdef_df[ccdef_df.default == 'No'].balance, ccdef_df[ccdef_df.default == 'No'].income, s=40, marker='o', linewidths='1', edgecolors='lightblue', facecolors='white', alpha=.6) "
   ]
  },
  {
   "cell_type": "code",
   "execution_count": 252,
   "id": "9631d5c0",
   "metadata": {},
   "outputs": [
    {
     "data": {
      "text/plain": [
       "(0.0, 73387.58174073232)"
      ]
     },
     "execution_count": 252,
     "metadata": {},
     "output_type": "execute_result"
    },
    {
     "name": "stderr",
     "output_type": "stream",
     "text": [
      "Traceback (most recent call last):\n",
      "  File \"C:\\Users\\mukes\\AppData\\Roaming\\Python\\Python311\\site-packages\\matplotlib\\backends\\backend_qt.py\", line 468, in _draw_idle\n",
      "    self.draw()\n",
      "  File \"C:\\Users\\mukes\\AppData\\Roaming\\Python\\Python311\\site-packages\\matplotlib\\backends\\backend_agg.py\", line 400, in draw\n",
      "    self.figure.draw(self.renderer)\n",
      "  File \"C:\\Users\\mukes\\AppData\\Roaming\\Python\\Python311\\site-packages\\matplotlib\\artist.py\", line 95, in draw_wrapper\n",
      "    result = draw(artist, renderer, *args, **kwargs)\n",
      "             ^^^^^^^^^^^^^^^^^^^^^^^^^^^^^^^^^^^^^^^\n",
      "  File \"C:\\Users\\mukes\\AppData\\Roaming\\Python\\Python311\\site-packages\\matplotlib\\artist.py\", line 72, in draw_wrapper\n",
      "    return draw(artist, renderer)\n",
      "           ^^^^^^^^^^^^^^^^^^^^^^\n",
      "  File \"C:\\Users\\mukes\\AppData\\Roaming\\Python\\Python311\\site-packages\\matplotlib\\figure.py\", line 3175, in draw\n",
      "    mimage._draw_list_compositing_images(\n",
      "  File \"C:\\Users\\mukes\\AppData\\Roaming\\Python\\Python311\\site-packages\\matplotlib\\image.py\", line 131, in _draw_list_compositing_images\n",
      "    a.draw(renderer)\n",
      "  File \"C:\\Users\\mukes\\AppData\\Roaming\\Python\\Python311\\site-packages\\matplotlib\\artist.py\", line 72, in draw_wrapper\n",
      "    return draw(artist, renderer)\n",
      "           ^^^^^^^^^^^^^^^^^^^^^^\n",
      "  File \"C:\\Users\\mukes\\AppData\\Roaming\\Python\\Python311\\site-packages\\matplotlib\\axes\\_base.py\", line 3064, in draw\n",
      "    mimage._draw_list_compositing_images(\n",
      "  File \"C:\\Users\\mukes\\AppData\\Roaming\\Python\\Python311\\site-packages\\matplotlib\\image.py\", line 131, in _draw_list_compositing_images\n",
      "    a.draw(renderer)\n",
      "  File \"C:\\Users\\mukes\\AppData\\Roaming\\Python\\Python311\\site-packages\\matplotlib\\artist.py\", line 72, in draw_wrapper\n",
      "    return draw(artist, renderer)\n",
      "           ^^^^^^^^^^^^^^^^^^^^^^\n",
      "  File \"C:\\Users\\mukes\\AppData\\Roaming\\Python\\Python311\\site-packages\\matplotlib\\collections.py\", line 972, in draw\n",
      "    super().draw(renderer)\n",
      "  File \"C:\\Users\\mukes\\AppData\\Roaming\\Python\\Python311\\site-packages\\matplotlib\\artist.py\", line 72, in draw_wrapper\n",
      "    return draw(artist, renderer)\n",
      "           ^^^^^^^^^^^^^^^^^^^^^^\n",
      "  File \"C:\\Users\\mukes\\AppData\\Roaming\\Python\\Python311\\site-packages\\matplotlib\\collections.py\", line 405, in draw\n",
      "    renderer.draw_markers(\n",
      "TypeError: must be real number, not str\n"
     ]
    }
   ],
   "source": [
    "ax1.set_ylim(ymin=0)"
   ]
  },
  {
   "cell_type": "code",
   "execution_count": 253,
   "id": "e65d7a05",
   "metadata": {},
   "outputs": [
    {
     "data": {
      "text/plain": [
       "Text(125.72916666666667, 0.5, 'Income')"
      ]
     },
     "execution_count": 253,
     "metadata": {},
     "output_type": "execute_result"
    },
    {
     "name": "stderr",
     "output_type": "stream",
     "text": [
      "Traceback (most recent call last):\n",
      "  File \"C:\\Users\\mukes\\AppData\\Roaming\\Python\\Python311\\site-packages\\matplotlib\\backends\\backend_qt.py\", line 468, in _draw_idle\n",
      "    self.draw()\n",
      "  File \"C:\\Users\\mukes\\AppData\\Roaming\\Python\\Python311\\site-packages\\matplotlib\\backends\\backend_agg.py\", line 400, in draw\n",
      "    self.figure.draw(self.renderer)\n",
      "  File \"C:\\Users\\mukes\\AppData\\Roaming\\Python\\Python311\\site-packages\\matplotlib\\artist.py\", line 95, in draw_wrapper\n",
      "    result = draw(artist, renderer, *args, **kwargs)\n",
      "             ^^^^^^^^^^^^^^^^^^^^^^^^^^^^^^^^^^^^^^^\n",
      "  File \"C:\\Users\\mukes\\AppData\\Roaming\\Python\\Python311\\site-packages\\matplotlib\\artist.py\", line 72, in draw_wrapper\n",
      "    return draw(artist, renderer)\n",
      "           ^^^^^^^^^^^^^^^^^^^^^^\n",
      "  File \"C:\\Users\\mukes\\AppData\\Roaming\\Python\\Python311\\site-packages\\matplotlib\\figure.py\", line 3175, in draw\n",
      "    mimage._draw_list_compositing_images(\n",
      "  File \"C:\\Users\\mukes\\AppData\\Roaming\\Python\\Python311\\site-packages\\matplotlib\\image.py\", line 131, in _draw_list_compositing_images\n",
      "    a.draw(renderer)\n",
      "  File \"C:\\Users\\mukes\\AppData\\Roaming\\Python\\Python311\\site-packages\\matplotlib\\artist.py\", line 72, in draw_wrapper\n",
      "    return draw(artist, renderer)\n",
      "           ^^^^^^^^^^^^^^^^^^^^^^\n",
      "  File \"C:\\Users\\mukes\\AppData\\Roaming\\Python\\Python311\\site-packages\\matplotlib\\axes\\_base.py\", line 3064, in draw\n",
      "    mimage._draw_list_compositing_images(\n",
      "  File \"C:\\Users\\mukes\\AppData\\Roaming\\Python\\Python311\\site-packages\\matplotlib\\image.py\", line 131, in _draw_list_compositing_images\n",
      "    a.draw(renderer)\n",
      "  File \"C:\\Users\\mukes\\AppData\\Roaming\\Python\\Python311\\site-packages\\matplotlib\\artist.py\", line 72, in draw_wrapper\n",
      "    return draw(artist, renderer)\n",
      "           ^^^^^^^^^^^^^^^^^^^^^^\n",
      "  File \"C:\\Users\\mukes\\AppData\\Roaming\\Python\\Python311\\site-packages\\matplotlib\\collections.py\", line 972, in draw\n",
      "    super().draw(renderer)\n",
      "  File \"C:\\Users\\mukes\\AppData\\Roaming\\Python\\Python311\\site-packages\\matplotlib\\artist.py\", line 72, in draw_wrapper\n",
      "    return draw(artist, renderer)\n",
      "           ^^^^^^^^^^^^^^^^^^^^^^\n",
      "  File \"C:\\Users\\mukes\\AppData\\Roaming\\Python\\Python311\\site-packages\\matplotlib\\collections.py\", line 405, in draw\n",
      "    renderer.draw_markers(\n",
      "TypeError: must be real number, not str\n"
     ]
    }
   ],
   "source": [
    "ax1.set_ylabel('Income')"
   ]
  },
  {
   "cell_type": "code",
   "execution_count": 254,
   "id": "0966b96f",
   "metadata": {},
   "outputs": [
    {
     "data": {
      "text/plain": [
       "(-100.0, 2224.7406029300814)"
      ]
     },
     "execution_count": 254,
     "metadata": {},
     "output_type": "execute_result"
    },
    {
     "name": "stderr",
     "output_type": "stream",
     "text": [
      "Traceback (most recent call last):\n",
      "  File \"C:\\Users\\mukes\\AppData\\Roaming\\Python\\Python311\\site-packages\\matplotlib\\backends\\backend_qt.py\", line 468, in _draw_idle\n",
      "    self.draw()\n",
      "  File \"C:\\Users\\mukes\\AppData\\Roaming\\Python\\Python311\\site-packages\\matplotlib\\backends\\backend_agg.py\", line 400, in draw\n",
      "    self.figure.draw(self.renderer)\n",
      "  File \"C:\\Users\\mukes\\AppData\\Roaming\\Python\\Python311\\site-packages\\matplotlib\\artist.py\", line 95, in draw_wrapper\n",
      "    result = draw(artist, renderer, *args, **kwargs)\n",
      "             ^^^^^^^^^^^^^^^^^^^^^^^^^^^^^^^^^^^^^^^\n",
      "  File \"C:\\Users\\mukes\\AppData\\Roaming\\Python\\Python311\\site-packages\\matplotlib\\artist.py\", line 72, in draw_wrapper\n",
      "    return draw(artist, renderer)\n",
      "           ^^^^^^^^^^^^^^^^^^^^^^\n",
      "  File \"C:\\Users\\mukes\\AppData\\Roaming\\Python\\Python311\\site-packages\\matplotlib\\figure.py\", line 3175, in draw\n",
      "    mimage._draw_list_compositing_images(\n",
      "  File \"C:\\Users\\mukes\\AppData\\Roaming\\Python\\Python311\\site-packages\\matplotlib\\image.py\", line 131, in _draw_list_compositing_images\n",
      "    a.draw(renderer)\n",
      "  File \"C:\\Users\\mukes\\AppData\\Roaming\\Python\\Python311\\site-packages\\matplotlib\\artist.py\", line 72, in draw_wrapper\n",
      "    return draw(artist, renderer)\n",
      "           ^^^^^^^^^^^^^^^^^^^^^^\n",
      "  File \"C:\\Users\\mukes\\AppData\\Roaming\\Python\\Python311\\site-packages\\matplotlib\\axes\\_base.py\", line 3064, in draw\n",
      "    mimage._draw_list_compositing_images(\n",
      "  File \"C:\\Users\\mukes\\AppData\\Roaming\\Python\\Python311\\site-packages\\matplotlib\\image.py\", line 131, in _draw_list_compositing_images\n",
      "    a.draw(renderer)\n",
      "  File \"C:\\Users\\mukes\\AppData\\Roaming\\Python\\Python311\\site-packages\\matplotlib\\artist.py\", line 72, in draw_wrapper\n",
      "    return draw(artist, renderer)\n",
      "           ^^^^^^^^^^^^^^^^^^^^^^\n",
      "  File \"C:\\Users\\mukes\\AppData\\Roaming\\Python\\Python311\\site-packages\\matplotlib\\collections.py\", line 972, in draw\n",
      "    super().draw(renderer)\n",
      "  File \"C:\\Users\\mukes\\AppData\\Roaming\\Python\\Python311\\site-packages\\matplotlib\\artist.py\", line 72, in draw_wrapper\n",
      "    return draw(artist, renderer)\n",
      "           ^^^^^^^^^^^^^^^^^^^^^^\n",
      "  File \"C:\\Users\\mukes\\AppData\\Roaming\\Python\\Python311\\site-packages\\matplotlib\\collections.py\", line 405, in draw\n",
      "    renderer.draw_markers(\n",
      "TypeError: must be real number, not str\n"
     ]
    }
   ],
   "source": [
    "ax1.set_xlim(xmin=-100) "
   ]
  },
  {
   "cell_type": "code",
   "execution_count": 255,
   "id": "f1f8bd44",
   "metadata": {},
   "outputs": [
    {
     "data": {
      "text/plain": [
       "Text(0.5, 40.72916666666666, 'Balance')"
      ]
     },
     "execution_count": 255,
     "metadata": {},
     "output_type": "execute_result"
    },
    {
     "name": "stderr",
     "output_type": "stream",
     "text": [
      "Traceback (most recent call last):\n",
      "  File \"C:\\Users\\mukes\\AppData\\Roaming\\Python\\Python311\\site-packages\\matplotlib\\backends\\backend_qt.py\", line 468, in _draw_idle\n",
      "    self.draw()\n",
      "  File \"C:\\Users\\mukes\\AppData\\Roaming\\Python\\Python311\\site-packages\\matplotlib\\backends\\backend_agg.py\", line 400, in draw\n",
      "    self.figure.draw(self.renderer)\n",
      "  File \"C:\\Users\\mukes\\AppData\\Roaming\\Python\\Python311\\site-packages\\matplotlib\\artist.py\", line 95, in draw_wrapper\n",
      "    result = draw(artist, renderer, *args, **kwargs)\n",
      "             ^^^^^^^^^^^^^^^^^^^^^^^^^^^^^^^^^^^^^^^\n",
      "  File \"C:\\Users\\mukes\\AppData\\Roaming\\Python\\Python311\\site-packages\\matplotlib\\artist.py\", line 72, in draw_wrapper\n",
      "    return draw(artist, renderer)\n",
      "           ^^^^^^^^^^^^^^^^^^^^^^\n",
      "  File \"C:\\Users\\mukes\\AppData\\Roaming\\Python\\Python311\\site-packages\\matplotlib\\figure.py\", line 3175, in draw\n",
      "    mimage._draw_list_compositing_images(\n",
      "  File \"C:\\Users\\mukes\\AppData\\Roaming\\Python\\Python311\\site-packages\\matplotlib\\image.py\", line 131, in _draw_list_compositing_images\n",
      "    a.draw(renderer)\n",
      "  File \"C:\\Users\\mukes\\AppData\\Roaming\\Python\\Python311\\site-packages\\matplotlib\\artist.py\", line 72, in draw_wrapper\n",
      "    return draw(artist, renderer)\n",
      "           ^^^^^^^^^^^^^^^^^^^^^^\n",
      "  File \"C:\\Users\\mukes\\AppData\\Roaming\\Python\\Python311\\site-packages\\matplotlib\\axes\\_base.py\", line 3064, in draw\n",
      "    mimage._draw_list_compositing_images(\n",
      "  File \"C:\\Users\\mukes\\AppData\\Roaming\\Python\\Python311\\site-packages\\matplotlib\\image.py\", line 131, in _draw_list_compositing_images\n",
      "    a.draw(renderer)\n",
      "  File \"C:\\Users\\mukes\\AppData\\Roaming\\Python\\Python311\\site-packages\\matplotlib\\artist.py\", line 72, in draw_wrapper\n",
      "    return draw(artist, renderer)\n",
      "           ^^^^^^^^^^^^^^^^^^^^^^\n",
      "  File \"C:\\Users\\mukes\\AppData\\Roaming\\Python\\Python311\\site-packages\\matplotlib\\collections.py\", line 972, in draw\n",
      "    super().draw(renderer)\n",
      "  File \"C:\\Users\\mukes\\AppData\\Roaming\\Python\\Python311\\site-packages\\matplotlib\\artist.py\", line 72, in draw_wrapper\n",
      "    return draw(artist, renderer)\n",
      "           ^^^^^^^^^^^^^^^^^^^^^^\n",
      "  File \"C:\\Users\\mukes\\AppData\\Roaming\\Python\\Python311\\site-packages\\matplotlib\\collections.py\", line 405, in draw\n",
      "    renderer.draw_markers(\n",
      "TypeError: must be real number, not str\n",
      "Traceback (most recent call last):\n",
      "  File \"C:\\Users\\mukes\\AppData\\Roaming\\Python\\Python311\\site-packages\\matplotlib\\backends\\backend_qt.py\", line 468, in _draw_idle\n",
      "    self.draw()\n",
      "  File \"C:\\Users\\mukes\\AppData\\Roaming\\Python\\Python311\\site-packages\\matplotlib\\backends\\backend_agg.py\", line 400, in draw\n",
      "    self.figure.draw(self.renderer)\n",
      "  File \"C:\\Users\\mukes\\AppData\\Roaming\\Python\\Python311\\site-packages\\matplotlib\\artist.py\", line 95, in draw_wrapper\n",
      "    result = draw(artist, renderer, *args, **kwargs)\n",
      "             ^^^^^^^^^^^^^^^^^^^^^^^^^^^^^^^^^^^^^^^\n",
      "  File \"C:\\Users\\mukes\\AppData\\Roaming\\Python\\Python311\\site-packages\\matplotlib\\artist.py\", line 72, in draw_wrapper\n",
      "    return draw(artist, renderer)\n",
      "           ^^^^^^^^^^^^^^^^^^^^^^\n",
      "  File \"C:\\Users\\mukes\\AppData\\Roaming\\Python\\Python311\\site-packages\\matplotlib\\figure.py\", line 3175, in draw\n",
      "    mimage._draw_list_compositing_images(\n",
      "  File \"C:\\Users\\mukes\\AppData\\Roaming\\Python\\Python311\\site-packages\\matplotlib\\image.py\", line 131, in _draw_list_compositing_images\n",
      "    a.draw(renderer)\n",
      "  File \"C:\\Users\\mukes\\AppData\\Roaming\\Python\\Python311\\site-packages\\matplotlib\\artist.py\", line 72, in draw_wrapper\n",
      "    return draw(artist, renderer)\n",
      "           ^^^^^^^^^^^^^^^^^^^^^^\n",
      "  File \"C:\\Users\\mukes\\AppData\\Roaming\\Python\\Python311\\site-packages\\matplotlib\\axes\\_base.py\", line 3064, in draw\n",
      "    mimage._draw_list_compositing_images(\n",
      "  File \"C:\\Users\\mukes\\AppData\\Roaming\\Python\\Python311\\site-packages\\matplotlib\\image.py\", line 131, in _draw_list_compositing_images\n",
      "    a.draw(renderer)\n",
      "  File \"C:\\Users\\mukes\\AppData\\Roaming\\Python\\Python311\\site-packages\\matplotlib\\artist.py\", line 72, in draw_wrapper\n",
      "    return draw(artist, renderer)\n",
      "           ^^^^^^^^^^^^^^^^^^^^^^\n",
      "  File \"C:\\Users\\mukes\\AppData\\Roaming\\Python\\Python311\\site-packages\\matplotlib\\collections.py\", line 972, in draw\n",
      "    super().draw(renderer)\n",
      "  File \"C:\\Users\\mukes\\AppData\\Roaming\\Python\\Python311\\site-packages\\matplotlib\\artist.py\", line 72, in draw_wrapper\n",
      "    return draw(artist, renderer)\n",
      "           ^^^^^^^^^^^^^^^^^^^^^^\n",
      "  File \"C:\\Users\\mukes\\AppData\\Roaming\\Python\\Python311\\site-packages\\matplotlib\\collections.py\", line 405, in draw\n",
      "    renderer.draw_markers(\n",
      "TypeError: must be real number, not str\n"
     ]
    }
   ],
   "source": [
    "ax1.set_xlabel('Balance')"
   ]
  },
  {
   "cell_type": "code",
   "execution_count": 256,
   "id": "63541b80",
   "metadata": {},
   "outputs": [],
   "source": [
    "c_palette = {'No':'lightblue', 'Yes':'orange'}"
   ]
  },
  {
   "cell_type": "code",
   "execution_count": 257,
   "id": "5acae2ac",
   "metadata": {},
   "outputs": [
    {
     "ename": "TypeError",
     "evalue": "boxplot() got multiple values for argument 'data'",
     "output_type": "error",
     "traceback": [
      "\u001b[1;31m---------------------------------------------------------------------------\u001b[0m",
      "\u001b[1;31mTypeError\u001b[0m                                 Traceback (most recent call last)",
      "Cell \u001b[1;32mIn[257], line 1\u001b[0m\n\u001b[1;32m----> 1\u001b[0m sns\u001b[38;5;241m.\u001b[39mboxplot(\u001b[38;5;124m'\u001b[39m\u001b[38;5;124mdefault\u001b[39m\u001b[38;5;124m'\u001b[39m, \u001b[38;5;124m'\u001b[39m\u001b[38;5;124mbalance\u001b[39m\u001b[38;5;124m'\u001b[39m, data\u001b[38;5;241m=\u001b[39mccdef, orient\u001b[38;5;241m=\u001b[39m\u001b[38;5;124m'\u001b[39m\u001b[38;5;124mv\u001b[39m\u001b[38;5;124m'\u001b[39m, ax\u001b[38;5;241m=\u001b[39max2, palette\u001b[38;5;241m=\u001b[39mc_palette)\n",
      "\u001b[1;31mTypeError\u001b[0m: boxplot() got multiple values for argument 'data'"
     ]
    }
   ],
   "source": [
    "sns.boxplot('default', 'balance', data=ccdef, orient='v', ax=ax2, palette=c_palette) "
   ]
  },
  {
   "cell_type": "code",
   "execution_count": null,
   "id": "b634839a",
   "metadata": {},
   "outputs": [],
   "source": [
    "sns.boxplot('default', 'income', data=ccdef, orient='v', ax=ax3, palette=c_palette) "
   ]
  },
  {
   "cell_type": "code",
   "execution_count": 258,
   "id": "f0a84d5c",
   "metadata": {},
   "outputs": [],
   "source": [
    "gs.tight_layout(plt.gcf())"
   ]
  },
  {
   "cell_type": "code",
   "execution_count": null,
   "id": "aef7f246",
   "metadata": {},
   "outputs": [],
   "source": []
  }
 ],
 "metadata": {
  "kernelspec": {
   "display_name": "Python 3 (ipykernel)",
   "language": "python",
   "name": "python3"
  },
  "language_info": {
   "codemirror_mode": {
    "name": "ipython",
    "version": 3
   },
   "file_extension": ".py",
   "mimetype": "text/x-python",
   "name": "python",
   "nbconvert_exporter": "python",
   "pygments_lexer": "ipython3",
   "version": "3.11.4"
  }
 },
 "nbformat": 4,
 "nbformat_minor": 5
}
