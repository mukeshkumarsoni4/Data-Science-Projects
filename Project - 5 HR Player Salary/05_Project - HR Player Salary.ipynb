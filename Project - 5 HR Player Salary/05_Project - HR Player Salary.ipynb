{
 "cells": [
  {
   "cell_type": "markdown",
   "id": "ab91f0b7",
   "metadata": {},
   "source": [
    "# Introduction"
   ]
  },
  {
   "cell_type": "markdown",
   "id": "2128dd0e",
   "metadata": {},
   "source": [
    "## Project - HR\n",
    "\n",
    "Predict the Baseball major league player salary based on career and previous season statistics"
   ]
  },
  {
   "cell_type": "markdown",
   "id": "a2b71ccb",
   "metadata": {},
   "source": [
    "Project Steps Followed\n",
    "\n",
    "1. Define Project Goals/Objective\n",
    "2. Data Retrieval\n",
    "3. Data Cleansing\n",
    "4. Exploratory Data Analysis\n",
    "5. Data Modeling\n",
    "6. Result Analysis"
   ]
  },
  {
   "cell_type": "markdown",
   "id": "28ea2145",
   "metadata": {},
   "source": [
    "## Define Research Goals\n",
    "\n",
    "Predict the Baseball major league player salary based on career and previous season statistics"
   ]
  },
  {
   "cell_type": "markdown",
   "id": "9a65a801",
   "metadata": {},
   "source": [
    "## Data Set"
   ]
  },
  {
   "cell_type": "markdown",
   "id": "07f6e011",
   "metadata": {},
   "source": [
    "We have career statistics and previous year statistics for 322 players\n",
    "\n",
    "By the end of the project, the learners will be able to learn the approaches required for Ridge Regression, Lasso Regression, and PCA"
   ]
  },
  {
   "cell_type": "code",
   "execution_count": 4,
   "id": "8f25c0bf",
   "metadata": {},
   "outputs": [],
   "source": [
    "import pandas as pd"
   ]
  },
  {
   "cell_type": "code",
   "execution_count": 5,
   "id": "03742b2d",
   "metadata": {},
   "outputs": [],
   "source": [
    "import numpy as np"
   ]
  },
  {
   "cell_type": "code",
   "execution_count": 6,
   "id": "58a3d9dc",
   "metadata": {},
   "outputs": [],
   "source": [
    "import matplotlib.pyplot as plt"
   ]
  },
  {
   "cell_type": "code",
   "execution_count": 7,
   "id": "a140e359",
   "metadata": {},
   "outputs": [],
   "source": [
    "from sklearn import model_selection"
   ]
  },
  {
   "cell_type": "code",
   "execution_count": 8,
   "id": "f4174249",
   "metadata": {},
   "outputs": [],
   "source": [
    "from sklearn.linear_model import Ridge, RidgeCV, Lasso, LassoCV"
   ]
  },
  {
   "cell_type": "code",
   "execution_count": 9,
   "id": "e37034cb",
   "metadata": {},
   "outputs": [],
   "source": [
    "from sklearn.metrics import mean_squared_error"
   ]
  },
  {
   "cell_type": "code",
   "execution_count": 10,
   "id": "d37a1df4",
   "metadata": {},
   "outputs": [],
   "source": [
    "from sklearn.preprocessing import StandardScaler"
   ]
  },
  {
   "cell_type": "markdown",
   "id": "4e94bf6e",
   "metadata": {},
   "source": [
    "## Load the Data"
   ]
  },
  {
   "cell_type": "code",
   "execution_count": 11,
   "id": "1d5a15e9",
   "metadata": {},
   "outputs": [],
   "source": [
    "playerdf = pd.read_csv('Player.csv', index_col=0)"
   ]
  },
  {
   "cell_type": "code",
   "execution_count": 12,
   "id": "6d115861",
   "metadata": {},
   "outputs": [
    {
     "data": {
      "text/html": [
       "<div>\n",
       "<style scoped>\n",
       "    .dataframe tbody tr th:only-of-type {\n",
       "        vertical-align: middle;\n",
       "    }\n",
       "\n",
       "    .dataframe tbody tr th {\n",
       "        vertical-align: top;\n",
       "    }\n",
       "\n",
       "    .dataframe thead th {\n",
       "        text-align: right;\n",
       "    }\n",
       "</style>\n",
       "<table border=\"1\" class=\"dataframe\">\n",
       "  <thead>\n",
       "    <tr style=\"text-align: right;\">\n",
       "      <th></th>\n",
       "      <th>AtBat</th>\n",
       "      <th>Hits</th>\n",
       "      <th>HmRun</th>\n",
       "      <th>Runs</th>\n",
       "      <th>RBI</th>\n",
       "      <th>Walks</th>\n",
       "      <th>Years</th>\n",
       "      <th>CAtBat</th>\n",
       "      <th>CHits</th>\n",
       "      <th>CHmRun</th>\n",
       "      <th>CRuns</th>\n",
       "      <th>CRBI</th>\n",
       "      <th>CWalks</th>\n",
       "      <th>League</th>\n",
       "      <th>Division</th>\n",
       "      <th>PutOuts</th>\n",
       "      <th>Assists</th>\n",
       "      <th>Errors</th>\n",
       "      <th>Salary</th>\n",
       "      <th>NewLeague</th>\n",
       "    </tr>\n",
       "  </thead>\n",
       "  <tbody>\n",
       "    <tr>\n",
       "      <th>-Andy Allanson</th>\n",
       "      <td>293</td>\n",
       "      <td>66</td>\n",
       "      <td>1</td>\n",
       "      <td>30</td>\n",
       "      <td>29</td>\n",
       "      <td>14</td>\n",
       "      <td>1</td>\n",
       "      <td>293</td>\n",
       "      <td>66</td>\n",
       "      <td>1</td>\n",
       "      <td>30</td>\n",
       "      <td>29</td>\n",
       "      <td>14</td>\n",
       "      <td>A</td>\n",
       "      <td>E</td>\n",
       "      <td>446</td>\n",
       "      <td>33</td>\n",
       "      <td>20</td>\n",
       "      <td>NaN</td>\n",
       "      <td>A</td>\n",
       "    </tr>\n",
       "    <tr>\n",
       "      <th>-Alan Ashby</th>\n",
       "      <td>315</td>\n",
       "      <td>81</td>\n",
       "      <td>7</td>\n",
       "      <td>24</td>\n",
       "      <td>38</td>\n",
       "      <td>39</td>\n",
       "      <td>14</td>\n",
       "      <td>3449</td>\n",
       "      <td>835</td>\n",
       "      <td>69</td>\n",
       "      <td>321</td>\n",
       "      <td>414</td>\n",
       "      <td>375</td>\n",
       "      <td>N</td>\n",
       "      <td>W</td>\n",
       "      <td>632</td>\n",
       "      <td>43</td>\n",
       "      <td>10</td>\n",
       "      <td>475.0</td>\n",
       "      <td>N</td>\n",
       "    </tr>\n",
       "    <tr>\n",
       "      <th>-Alvin Davis</th>\n",
       "      <td>479</td>\n",
       "      <td>130</td>\n",
       "      <td>18</td>\n",
       "      <td>66</td>\n",
       "      <td>72</td>\n",
       "      <td>76</td>\n",
       "      <td>3</td>\n",
       "      <td>1624</td>\n",
       "      <td>457</td>\n",
       "      <td>63</td>\n",
       "      <td>224</td>\n",
       "      <td>266</td>\n",
       "      <td>263</td>\n",
       "      <td>A</td>\n",
       "      <td>W</td>\n",
       "      <td>880</td>\n",
       "      <td>82</td>\n",
       "      <td>14</td>\n",
       "      <td>480.0</td>\n",
       "      <td>A</td>\n",
       "    </tr>\n",
       "    <tr>\n",
       "      <th>-Andre Dawson</th>\n",
       "      <td>496</td>\n",
       "      <td>141</td>\n",
       "      <td>20</td>\n",
       "      <td>65</td>\n",
       "      <td>78</td>\n",
       "      <td>37</td>\n",
       "      <td>11</td>\n",
       "      <td>5628</td>\n",
       "      <td>1575</td>\n",
       "      <td>225</td>\n",
       "      <td>828</td>\n",
       "      <td>838</td>\n",
       "      <td>354</td>\n",
       "      <td>N</td>\n",
       "      <td>E</td>\n",
       "      <td>200</td>\n",
       "      <td>11</td>\n",
       "      <td>3</td>\n",
       "      <td>500.0</td>\n",
       "      <td>N</td>\n",
       "    </tr>\n",
       "    <tr>\n",
       "      <th>-Andres Galarraga</th>\n",
       "      <td>321</td>\n",
       "      <td>87</td>\n",
       "      <td>10</td>\n",
       "      <td>39</td>\n",
       "      <td>42</td>\n",
       "      <td>30</td>\n",
       "      <td>2</td>\n",
       "      <td>396</td>\n",
       "      <td>101</td>\n",
       "      <td>12</td>\n",
       "      <td>48</td>\n",
       "      <td>46</td>\n",
       "      <td>33</td>\n",
       "      <td>N</td>\n",
       "      <td>E</td>\n",
       "      <td>805</td>\n",
       "      <td>40</td>\n",
       "      <td>4</td>\n",
       "      <td>91.5</td>\n",
       "      <td>N</td>\n",
       "    </tr>\n",
       "  </tbody>\n",
       "</table>\n",
       "</div>"
      ],
      "text/plain": [
       "                   AtBat  Hits  HmRun  Runs  RBI  Walks  Years  CAtBat  CHits  \\\n",
       "-Andy Allanson       293    66      1    30   29     14      1     293     66   \n",
       "-Alan Ashby          315    81      7    24   38     39     14    3449    835   \n",
       "-Alvin Davis         479   130     18    66   72     76      3    1624    457   \n",
       "-Andre Dawson        496   141     20    65   78     37     11    5628   1575   \n",
       "-Andres Galarraga    321    87     10    39   42     30      2     396    101   \n",
       "\n",
       "                   CHmRun  CRuns  CRBI  CWalks League Division  PutOuts  \\\n",
       "-Andy Allanson          1     30    29      14      A        E      446   \n",
       "-Alan Ashby            69    321   414     375      N        W      632   \n",
       "-Alvin Davis           63    224   266     263      A        W      880   \n",
       "-Andre Dawson         225    828   838     354      N        E      200   \n",
       "-Andres Galarraga      12     48    46      33      N        E      805   \n",
       "\n",
       "                   Assists  Errors  Salary NewLeague  \n",
       "-Andy Allanson          33      20     NaN         A  \n",
       "-Alan Ashby             43      10   475.0         N  \n",
       "-Alvin Davis            82      14   480.0         A  \n",
       "-Andre Dawson           11       3   500.0         N  \n",
       "-Andres Galarraga       40       4    91.5         N  "
      ]
     },
     "execution_count": 12,
     "metadata": {},
     "output_type": "execute_result"
    }
   ],
   "source": [
    "playerdf.head()"
   ]
  },
  {
   "cell_type": "markdown",
   "id": "819041ea",
   "metadata": {},
   "source": [
    "## Data Analysis"
   ]
  },
  {
   "cell_type": "markdown",
   "id": "c9a6cdcd",
   "metadata": {},
   "source": [
    "### Dimension of the Data"
   ]
  },
  {
   "cell_type": "code",
   "execution_count": 13,
   "id": "66c6861a",
   "metadata": {},
   "outputs": [
    {
     "data": {
      "text/plain": [
       "(322, 20)"
      ]
     },
     "execution_count": 13,
     "metadata": {},
     "output_type": "execute_result"
    }
   ],
   "source": [
    "playerdf.shape "
   ]
  },
  {
   "cell_type": "markdown",
   "id": "b96c4d18",
   "metadata": {},
   "source": [
    "We get the dimension of the dataset. The dataset has 322 rows and 20 columns"
   ]
  },
  {
   "cell_type": "markdown",
   "id": "8e7401fd",
   "metadata": {},
   "source": [
    "## Data Types"
   ]
  },
  {
   "cell_type": "code",
   "execution_count": 14,
   "id": "dced327b",
   "metadata": {},
   "outputs": [
    {
     "name": "stdout",
     "output_type": "stream",
     "text": [
      "<class 'pandas.core.frame.DataFrame'>\n",
      "Index: 322 entries, -Andy Allanson to -Willie Wilson\n",
      "Data columns (total 20 columns):\n",
      " #   Column     Non-Null Count  Dtype  \n",
      "---  ------     --------------  -----  \n",
      " 0   AtBat      322 non-null    int64  \n",
      " 1   Hits       322 non-null    int64  \n",
      " 2   HmRun      322 non-null    int64  \n",
      " 3   Runs       322 non-null    int64  \n",
      " 4   RBI        322 non-null    int64  \n",
      " 5   Walks      322 non-null    int64  \n",
      " 6   Years      322 non-null    int64  \n",
      " 7   CAtBat     322 non-null    int64  \n",
      " 8   CHits      322 non-null    int64  \n",
      " 9   CHmRun     322 non-null    int64  \n",
      " 10  CRuns      322 non-null    int64  \n",
      " 11  CRBI       322 non-null    int64  \n",
      " 12  CWalks     322 non-null    int64  \n",
      " 13  League     322 non-null    object \n",
      " 14  Division   322 non-null    object \n",
      " 15  PutOuts    322 non-null    int64  \n",
      " 16  Assists    322 non-null    int64  \n",
      " 17  Errors     322 non-null    int64  \n",
      " 18  Salary     263 non-null    float64\n",
      " 19  NewLeague  322 non-null    object \n",
      "dtypes: float64(1), int64(16), object(3)\n",
      "memory usage: 52.8+ KB\n"
     ]
    }
   ],
   "source": [
    "playerdf.info() "
   ]
  },
  {
   "cell_type": "markdown",
   "id": "696465f8",
   "metadata": {},
   "source": [
    "## Null Values"
   ]
  },
  {
   "cell_type": "code",
   "execution_count": 15,
   "id": "4a72b3ff",
   "metadata": {},
   "outputs": [
    {
     "data": {
      "text/plain": [
       "AtBat         0\n",
       "Hits          0\n",
       "HmRun         0\n",
       "Runs          0\n",
       "RBI           0\n",
       "Walks         0\n",
       "Years         0\n",
       "CAtBat        0\n",
       "CHits         0\n",
       "CHmRun        0\n",
       "CRuns         0\n",
       "CRBI          0\n",
       "CWalks        0\n",
       "League        0\n",
       "Division      0\n",
       "PutOuts       0\n",
       "Assists       0\n",
       "Errors        0\n",
       "Salary       59\n",
       "NewLeague     0\n",
       "dtype: int64"
      ]
     },
     "execution_count": 15,
     "metadata": {},
     "output_type": "execute_result"
    }
   ],
   "source": [
    "playerdf.isnull().sum() "
   ]
  },
  {
   "cell_type": "markdown",
   "id": "d09867b3",
   "metadata": {},
   "source": [
    "## Drop Null Values "
   ]
  },
  {
   "cell_type": "code",
   "execution_count": 16,
   "id": "f5795c1a",
   "metadata": {},
   "outputs": [],
   "source": [
    "playerdf.dropna(inplace=True)"
   ]
  },
  {
   "cell_type": "code",
   "execution_count": 17,
   "id": "8d773b88",
   "metadata": {},
   "outputs": [
    {
     "data": {
      "text/plain": [
       "(263, 20)"
      ]
     },
     "execution_count": 17,
     "metadata": {},
     "output_type": "execute_result"
    }
   ],
   "source": [
    "playerdf.shape  "
   ]
  },
  {
   "cell_type": "markdown",
   "id": "0d39fa2c",
   "metadata": {},
   "source": [
    "## Statistical Analysis and Encode Variables"
   ]
  },
  {
   "cell_type": "markdown",
   "id": "0ab2eb8a",
   "metadata": {},
   "source": [
    "### Statistical Data Analysis"
   ]
  },
  {
   "cell_type": "code",
   "execution_count": 18,
   "id": "23d76cd8",
   "metadata": {},
   "outputs": [
    {
     "data": {
      "text/html": [
       "<div>\n",
       "<style scoped>\n",
       "    .dataframe tbody tr th:only-of-type {\n",
       "        vertical-align: middle;\n",
       "    }\n",
       "\n",
       "    .dataframe tbody tr th {\n",
       "        vertical-align: top;\n",
       "    }\n",
       "\n",
       "    .dataframe thead th {\n",
       "        text-align: right;\n",
       "    }\n",
       "</style>\n",
       "<table border=\"1\" class=\"dataframe\">\n",
       "  <thead>\n",
       "    <tr style=\"text-align: right;\">\n",
       "      <th></th>\n",
       "      <th>AtBat</th>\n",
       "      <th>Hits</th>\n",
       "      <th>HmRun</th>\n",
       "      <th>Runs</th>\n",
       "      <th>RBI</th>\n",
       "      <th>Walks</th>\n",
       "      <th>Years</th>\n",
       "      <th>CAtBat</th>\n",
       "      <th>CHits</th>\n",
       "      <th>CHmRun</th>\n",
       "      <th>CRuns</th>\n",
       "      <th>CRBI</th>\n",
       "      <th>CWalks</th>\n",
       "      <th>PutOuts</th>\n",
       "      <th>Assists</th>\n",
       "      <th>Errors</th>\n",
       "      <th>Salary</th>\n",
       "    </tr>\n",
       "  </thead>\n",
       "  <tbody>\n",
       "    <tr>\n",
       "      <th>count</th>\n",
       "      <td>263.000000</td>\n",
       "      <td>263.000000</td>\n",
       "      <td>263.000000</td>\n",
       "      <td>263.000000</td>\n",
       "      <td>263.000000</td>\n",
       "      <td>263.000000</td>\n",
       "      <td>263.000000</td>\n",
       "      <td>263.000000</td>\n",
       "      <td>263.000000</td>\n",
       "      <td>263.000000</td>\n",
       "      <td>263.000000</td>\n",
       "      <td>263.000000</td>\n",
       "      <td>263.000000</td>\n",
       "      <td>263.000000</td>\n",
       "      <td>263.000000</td>\n",
       "      <td>263.000000</td>\n",
       "      <td>263.000000</td>\n",
       "    </tr>\n",
       "    <tr>\n",
       "      <th>mean</th>\n",
       "      <td>403.642586</td>\n",
       "      <td>107.828897</td>\n",
       "      <td>11.619772</td>\n",
       "      <td>54.745247</td>\n",
       "      <td>51.486692</td>\n",
       "      <td>41.114068</td>\n",
       "      <td>7.311787</td>\n",
       "      <td>2657.543726</td>\n",
       "      <td>722.186312</td>\n",
       "      <td>69.239544</td>\n",
       "      <td>361.220532</td>\n",
       "      <td>330.418251</td>\n",
       "      <td>260.266160</td>\n",
       "      <td>290.711027</td>\n",
       "      <td>118.760456</td>\n",
       "      <td>8.593156</td>\n",
       "      <td>535.925882</td>\n",
       "    </tr>\n",
       "    <tr>\n",
       "      <th>std</th>\n",
       "      <td>147.307209</td>\n",
       "      <td>45.125326</td>\n",
       "      <td>8.757108</td>\n",
       "      <td>25.539816</td>\n",
       "      <td>25.882714</td>\n",
       "      <td>21.718056</td>\n",
       "      <td>4.793616</td>\n",
       "      <td>2286.582929</td>\n",
       "      <td>648.199644</td>\n",
       "      <td>82.197581</td>\n",
       "      <td>331.198571</td>\n",
       "      <td>323.367668</td>\n",
       "      <td>264.055868</td>\n",
       "      <td>279.934575</td>\n",
       "      <td>145.080577</td>\n",
       "      <td>6.606574</td>\n",
       "      <td>451.118681</td>\n",
       "    </tr>\n",
       "    <tr>\n",
       "      <th>min</th>\n",
       "      <td>19.000000</td>\n",
       "      <td>1.000000</td>\n",
       "      <td>0.000000</td>\n",
       "      <td>0.000000</td>\n",
       "      <td>0.000000</td>\n",
       "      <td>0.000000</td>\n",
       "      <td>1.000000</td>\n",
       "      <td>19.000000</td>\n",
       "      <td>4.000000</td>\n",
       "      <td>0.000000</td>\n",
       "      <td>2.000000</td>\n",
       "      <td>3.000000</td>\n",
       "      <td>1.000000</td>\n",
       "      <td>0.000000</td>\n",
       "      <td>0.000000</td>\n",
       "      <td>0.000000</td>\n",
       "      <td>67.500000</td>\n",
       "    </tr>\n",
       "    <tr>\n",
       "      <th>25%</th>\n",
       "      <td>282.500000</td>\n",
       "      <td>71.500000</td>\n",
       "      <td>5.000000</td>\n",
       "      <td>33.500000</td>\n",
       "      <td>30.000000</td>\n",
       "      <td>23.000000</td>\n",
       "      <td>4.000000</td>\n",
       "      <td>842.500000</td>\n",
       "      <td>212.000000</td>\n",
       "      <td>15.000000</td>\n",
       "      <td>105.500000</td>\n",
       "      <td>95.000000</td>\n",
       "      <td>71.000000</td>\n",
       "      <td>113.500000</td>\n",
       "      <td>8.000000</td>\n",
       "      <td>3.000000</td>\n",
       "      <td>190.000000</td>\n",
       "    </tr>\n",
       "    <tr>\n",
       "      <th>50%</th>\n",
       "      <td>413.000000</td>\n",
       "      <td>103.000000</td>\n",
       "      <td>9.000000</td>\n",
       "      <td>52.000000</td>\n",
       "      <td>47.000000</td>\n",
       "      <td>37.000000</td>\n",
       "      <td>6.000000</td>\n",
       "      <td>1931.000000</td>\n",
       "      <td>516.000000</td>\n",
       "      <td>40.000000</td>\n",
       "      <td>250.000000</td>\n",
       "      <td>230.000000</td>\n",
       "      <td>174.000000</td>\n",
       "      <td>224.000000</td>\n",
       "      <td>45.000000</td>\n",
       "      <td>7.000000</td>\n",
       "      <td>425.000000</td>\n",
       "    </tr>\n",
       "    <tr>\n",
       "      <th>75%</th>\n",
       "      <td>526.000000</td>\n",
       "      <td>141.500000</td>\n",
       "      <td>18.000000</td>\n",
       "      <td>73.000000</td>\n",
       "      <td>71.000000</td>\n",
       "      <td>57.000000</td>\n",
       "      <td>10.000000</td>\n",
       "      <td>3890.500000</td>\n",
       "      <td>1054.000000</td>\n",
       "      <td>92.500000</td>\n",
       "      <td>497.500000</td>\n",
       "      <td>424.500000</td>\n",
       "      <td>328.500000</td>\n",
       "      <td>322.500000</td>\n",
       "      <td>192.000000</td>\n",
       "      <td>13.000000</td>\n",
       "      <td>750.000000</td>\n",
       "    </tr>\n",
       "    <tr>\n",
       "      <th>max</th>\n",
       "      <td>687.000000</td>\n",
       "      <td>238.000000</td>\n",
       "      <td>40.000000</td>\n",
       "      <td>130.000000</td>\n",
       "      <td>121.000000</td>\n",
       "      <td>105.000000</td>\n",
       "      <td>24.000000</td>\n",
       "      <td>14053.000000</td>\n",
       "      <td>4256.000000</td>\n",
       "      <td>548.000000</td>\n",
       "      <td>2165.000000</td>\n",
       "      <td>1659.000000</td>\n",
       "      <td>1566.000000</td>\n",
       "      <td>1377.000000</td>\n",
       "      <td>492.000000</td>\n",
       "      <td>32.000000</td>\n",
       "      <td>2460.000000</td>\n",
       "    </tr>\n",
       "  </tbody>\n",
       "</table>\n",
       "</div>"
      ],
      "text/plain": [
       "            AtBat        Hits       HmRun        Runs         RBI       Walks  \\\n",
       "count  263.000000  263.000000  263.000000  263.000000  263.000000  263.000000   \n",
       "mean   403.642586  107.828897   11.619772   54.745247   51.486692   41.114068   \n",
       "std    147.307209   45.125326    8.757108   25.539816   25.882714   21.718056   \n",
       "min     19.000000    1.000000    0.000000    0.000000    0.000000    0.000000   \n",
       "25%    282.500000   71.500000    5.000000   33.500000   30.000000   23.000000   \n",
       "50%    413.000000  103.000000    9.000000   52.000000   47.000000   37.000000   \n",
       "75%    526.000000  141.500000   18.000000   73.000000   71.000000   57.000000   \n",
       "max    687.000000  238.000000   40.000000  130.000000  121.000000  105.000000   \n",
       "\n",
       "            Years        CAtBat        CHits      CHmRun        CRuns  \\\n",
       "count  263.000000    263.000000   263.000000  263.000000   263.000000   \n",
       "mean     7.311787   2657.543726   722.186312   69.239544   361.220532   \n",
       "std      4.793616   2286.582929   648.199644   82.197581   331.198571   \n",
       "min      1.000000     19.000000     4.000000    0.000000     2.000000   \n",
       "25%      4.000000    842.500000   212.000000   15.000000   105.500000   \n",
       "50%      6.000000   1931.000000   516.000000   40.000000   250.000000   \n",
       "75%     10.000000   3890.500000  1054.000000   92.500000   497.500000   \n",
       "max     24.000000  14053.000000  4256.000000  548.000000  2165.000000   \n",
       "\n",
       "              CRBI       CWalks      PutOuts     Assists      Errors  \\\n",
       "count   263.000000   263.000000   263.000000  263.000000  263.000000   \n",
       "mean    330.418251   260.266160   290.711027  118.760456    8.593156   \n",
       "std     323.367668   264.055868   279.934575  145.080577    6.606574   \n",
       "min       3.000000     1.000000     0.000000    0.000000    0.000000   \n",
       "25%      95.000000    71.000000   113.500000    8.000000    3.000000   \n",
       "50%     230.000000   174.000000   224.000000   45.000000    7.000000   \n",
       "75%     424.500000   328.500000   322.500000  192.000000   13.000000   \n",
       "max    1659.000000  1566.000000  1377.000000  492.000000   32.000000   \n",
       "\n",
       "            Salary  \n",
       "count   263.000000  \n",
       "mean    535.925882  \n",
       "std     451.118681  \n",
       "min      67.500000  \n",
       "25%     190.000000  \n",
       "50%     425.000000  \n",
       "75%     750.000000  \n",
       "max    2460.000000  "
      ]
     },
     "execution_count": 18,
     "metadata": {},
     "output_type": "execute_result"
    }
   ],
   "source": [
    "playerdf.describe()"
   ]
  },
  {
   "cell_type": "markdown",
   "id": "ae0cba1a",
   "metadata": {},
   "source": [
    "## Categorical Variable Analysis"
   ]
  },
  {
   "cell_type": "code",
   "execution_count": 19,
   "id": "d387da59",
   "metadata": {},
   "outputs": [
    {
     "data": {
      "text/plain": [
       "League\n",
       "A    139\n",
       "N    124\n",
       "Name: count, dtype: int64"
      ]
     },
     "execution_count": 19,
     "metadata": {},
     "output_type": "execute_result"
    }
   ],
   "source": [
    "playerdf.League.value_counts()"
   ]
  },
  {
   "cell_type": "code",
   "execution_count": 20,
   "id": "8036b989",
   "metadata": {},
   "outputs": [
    {
     "data": {
      "text/plain": [
       "Division\n",
       "W    134\n",
       "E    129\n",
       "Name: count, dtype: int64"
      ]
     },
     "execution_count": 20,
     "metadata": {},
     "output_type": "execute_result"
    }
   ],
   "source": [
    "playerdf.Division.value_counts()"
   ]
  },
  {
   "cell_type": "code",
   "execution_count": 21,
   "id": "1b8e29bd",
   "metadata": {},
   "outputs": [
    {
     "data": {
      "text/plain": [
       "NewLeague\n",
       "A    141\n",
       "N    122\n",
       "Name: count, dtype: int64"
      ]
     },
     "execution_count": 21,
     "metadata": {},
     "output_type": "execute_result"
    }
   ],
   "source": [
    "playerdf.NewLeague.value_counts()"
   ]
  },
  {
   "cell_type": "markdown",
   "id": "2691d501",
   "metadata": {},
   "source": [
    "## Encode Categorical Variables"
   ]
  },
  {
   "cell_type": "code",
   "execution_count": 22,
   "id": "4a67bbf1",
   "metadata": {},
   "outputs": [],
   "source": [
    "dummyCol = pd.get_dummies(playerdf[['League', 'Division', 'NewLeague']]) "
   ]
  },
  {
   "cell_type": "markdown",
   "id": "bd81e0b9",
   "metadata": {},
   "source": [
    "dummyCol.head(3)"
   ]
  },
  {
   "cell_type": "code",
   "execution_count": 23,
   "id": "809a0a0a",
   "metadata": {},
   "outputs": [
    {
     "name": "stdout",
     "output_type": "stream",
     "text": [
      "<class 'pandas.core.frame.DataFrame'>\n",
      "Index: 263 entries, -Alan Ashby to -Willie Wilson\n",
      "Data columns (total 6 columns):\n",
      " #   Column       Non-Null Count  Dtype\n",
      "---  ------       --------------  -----\n",
      " 0   League_A     263 non-null    bool \n",
      " 1   League_N     263 non-null    bool \n",
      " 2   Division_E   263 non-null    bool \n",
      " 3   Division_W   263 non-null    bool \n",
      " 4   NewLeague_A  263 non-null    bool \n",
      " 5   NewLeague_N  263 non-null    bool \n",
      "dtypes: bool(6)\n",
      "memory usage: 3.6+ KB\n"
     ]
    }
   ],
   "source": [
    "dummyCol.info() "
   ]
  },
  {
   "cell_type": "markdown",
   "id": "da0294ff",
   "metadata": {},
   "source": [
    "## Prepare Input/Output Variables"
   ]
  },
  {
   "cell_type": "markdown",
   "id": "be06963d",
   "metadata": {},
   "source": [
    "### Prepare Input Variables (X)"
   ]
  },
  {
   "cell_type": "code",
   "execution_count": 24,
   "id": "8bc72e70",
   "metadata": {},
   "outputs": [],
   "source": [
    " XTemp = playerdf.drop(['Salary', 'League', 'Division', 'NewLeague'], axis=1)"
   ]
  },
  {
   "cell_type": "code",
   "execution_count": 25,
   "id": "4d59600a",
   "metadata": {},
   "outputs": [],
   "source": [
    "X = pd.concat([XTemp, dummyCol[['League_N', 'Division_W', 'NewLeague_N']]], axis=1)"
   ]
  },
  {
   "cell_type": "code",
   "execution_count": 26,
   "id": "6cfc788d",
   "metadata": {},
   "outputs": [
    {
     "name": "stdout",
     "output_type": "stream",
     "text": [
      "<class 'pandas.core.frame.DataFrame'>\n",
      "Index: 263 entries, -Alan Ashby to -Willie Wilson\n",
      "Data columns (total 19 columns):\n",
      " #   Column       Non-Null Count  Dtype\n",
      "---  ------       --------------  -----\n",
      " 0   AtBat        263 non-null    int64\n",
      " 1   Hits         263 non-null    int64\n",
      " 2   HmRun        263 non-null    int64\n",
      " 3   Runs         263 non-null    int64\n",
      " 4   RBI          263 non-null    int64\n",
      " 5   Walks        263 non-null    int64\n",
      " 6   Years        263 non-null    int64\n",
      " 7   CAtBat       263 non-null    int64\n",
      " 8   CHits        263 non-null    int64\n",
      " 9   CHmRun       263 non-null    int64\n",
      " 10  CRuns        263 non-null    int64\n",
      " 11  CRBI         263 non-null    int64\n",
      " 12  CWalks       263 non-null    int64\n",
      " 13  PutOuts      263 non-null    int64\n",
      " 14  Assists      263 non-null    int64\n",
      " 15  Errors       263 non-null    int64\n",
      " 16  League_N     263 non-null    bool \n",
      " 17  Division_W   263 non-null    bool \n",
      " 18  NewLeague_N  263 non-null    bool \n",
      "dtypes: bool(3), int64(16)\n",
      "memory usage: 35.7+ KB\n"
     ]
    }
   ],
   "source": [
    "X.info()"
   ]
  },
  {
   "cell_type": "markdown",
   "id": "51e61999",
   "metadata": {},
   "source": [
    "## Prepare Output Variable"
   ]
  },
  {
   "cell_type": "code",
   "execution_count": 27,
   "id": "a08331af",
   "metadata": {},
   "outputs": [],
   "source": [
    "y = playerdf.Salary"
   ]
  },
  {
   "cell_type": "code",
   "execution_count": 28,
   "id": "f2e2b443",
   "metadata": {},
   "outputs": [
    {
     "data": {
      "text/plain": [
       "-Alan Ashby          475.0\n",
       "-Alvin Davis         480.0\n",
       "-Andre Dawson        500.0\n",
       "-Andres Galarraga     91.5\n",
       "-Alfredo Griffin     750.0\n",
       "Name: Salary, dtype: float64"
      ]
     },
     "execution_count": 28,
     "metadata": {},
     "output_type": "execute_result"
    }
   ],
   "source": [
    "y.head()"
   ]
  },
  {
   "cell_type": "markdown",
   "id": "1627f207",
   "metadata": {},
   "source": [
    "## Ridge Regression"
   ]
  },
  {
   "cell_type": "code",
   "execution_count": 29,
   "id": "ea67def6",
   "metadata": {},
   "outputs": [],
   "source": [
    "alphas = 10**np.linspace(10,-2,100)*0.00001"
   ]
  },
  {
   "cell_type": "code",
   "execution_count": 30,
   "id": "f197de30",
   "metadata": {},
   "outputs": [],
   "source": [
    "ridge = Ridge()"
   ]
  },
  {
   "cell_type": "code",
   "execution_count": 31,
   "id": "d16bbfa7",
   "metadata": {},
   "outputs": [],
   "source": [
    "coeffs = []"
   ]
  },
  {
   "cell_type": "code",
   "execution_count": 32,
   "id": "d55788be",
   "metadata": {},
   "outputs": [],
   "source": [
    "scaler = StandardScaler()"
   ]
  },
  {
   "cell_type": "code",
   "execution_count": 33,
   "id": "f395cfec",
   "metadata": {},
   "outputs": [],
   "source": [
    "for a in alphas:\n",
    "    ridge.set_params(alpha=a) \n",
    "    ridge.fit(scaler.fit_transform(X), y) \n",
    "    coeffs.append(ridge.coef_)"
   ]
  },
  {
   "cell_type": "code",
   "execution_count": 34,
   "id": "bfa12761",
   "metadata": {},
   "outputs": [
    {
     "data": {
      "text/plain": [
       "(100, 19)"
      ]
     },
     "execution_count": 34,
     "metadata": {},
     "output_type": "execute_result"
    }
   ],
   "source": [
    "np.shape(coeffs)"
   ]
  },
  {
   "cell_type": "code",
   "execution_count": 37,
   "id": "3447ec6a",
   "metadata": {},
   "outputs": [
    {
     "data": {
      "image/png": "[encoded data removed]",
      "text/plain": [
       "<Figure size 640x480 with 1 Axes>"
      ]
     },
     "metadata": {},
     "output_type": "display_data"
    }
   ],
   "source": [
    "ax= plt.gca()\n",
    "ax.plot(alphas, coeffs) \n",
    "ax.set_xscale('log') \n",
    "plt.axis('tight') \n",
    "plt.xlabel('Lambda') \n",
    "plt.ylabel('Coefficients') \n",
    "plt.title('Ridge coefficients as a function of lambda(alpha)')\n",
    "plt.show()  "
   ]
  },
  {
   "cell_type": "code",
   "execution_count": 41,
   "id": "4b34099d",
   "metadata": {},
   "outputs": [],
   "source": [
    " # pd.set_option('precision',6)"
   ]
  },
  {
   "cell_type": "code",
   "execution_count": 42,
   "id": "7e6d5d98",
   "metadata": {},
   "outputs": [],
   "source": [
    "X_train, X_test , y_train, y_test = model_selection.train_test_split(X,y,test_size=0.5, random_state=1)               "
   ]
  },
  {
   "cell_type": "code",
   "execution_count": 43,
   "id": "8072f0ba",
   "metadata": {},
   "outputs": [],
   "source": [
    "def Ridge_Regression(alpha):\n",
    "    scaler = StandardScaler() \n",
    "    ridge = Ridge(alpha=alpha)\n",
    "    ridge.fit(scaler.fit_transform(X_train), y_train) \n",
    "    pred = ridge.predict(scaler.fit_transform(X_test))\n",
    "    print(pd.Series(ridge.coef_, index=X.columns)) \n",
    "    print('Mean Squared Error: ',mean_squared_error(y_test, pred)) "
   ]
  },
  {
   "cell_type": "markdown",
   "id": "3eee79ed",
   "metadata": {},
   "source": [
    "## Ridge Regression lambda = 0"
   ]
  },
  {
   "cell_type": "code",
   "execution_count": 44,
   "id": "ec0358b5",
   "metadata": {},
   "outputs": [
    {
     "name": "stdout",
     "output_type": "stream",
     "text": [
      "AtBat          -266.553048\n",
      "Hits            197.706218\n",
      "HmRun           -38.103182\n",
      "Runs             -1.007996\n",
      "RBI             103.119845\n",
      "Walks            79.750209\n",
      "Years            45.357697\n",
      "CAtBat        -1399.811384\n",
      "CHits          1426.954812\n",
      "CHmRun          264.037977\n",
      "CRuns            86.858781\n",
      "CRBI           -211.142393\n",
      "CWalks           42.533597\n",
      "PutOuts         126.075563\n",
      "Assists          65.816094\n",
      "Errors          -38.313885\n",
      "League_N         66.822855\n",
      "Division_W      -56.870280\n",
      "NewLeague_N     -40.962688\n",
      "dtype: float64\n",
      "Mean Squared Error:  117301.05503374818\n"
     ]
    }
   ],
   "source": [
    "Ridge_Regression(0)"
   ]
  },
  {
   "cell_type": "markdown",
   "id": "b9032bad",
   "metadata": {},
   "source": [
    "## Ridge Regression lambda = 4"
   ]
  },
  {
   "cell_type": "code",
   "execution_count": 45,
   "id": "30773333",
   "metadata": {},
   "outputs": [
    {
     "name": "stdout",
     "output_type": "stream",
     "text": [
      "AtBat         -210.807322\n",
      "Hits           193.076932\n",
      "HmRun          -51.437368\n",
      "Runs             1.624070\n",
      "RBI             81.458917\n",
      "Walks           94.582539\n",
      "Years          -28.029476\n",
      "CAtBat        -117.924364\n",
      "CHits           91.159632\n",
      "CHmRun          91.762010\n",
      "CRuns          101.115450\n",
      "CRBI           117.598963\n",
      "CWalks         -38.434685\n",
      "PutOuts        125.556071\n",
      "Assists         25.559188\n",
      "Errors         -18.518904\n",
      "League_N        35.792050\n",
      "Division_W     -60.245442\n",
      "NewLeague_N    -18.650623\n",
      "dtype: float64\n",
      "Mean Squared Error:  104835.06228323367\n"
     ]
    }
   ],
   "source": [
    "Ridge_Regression(4)"
   ]
  },
  {
   "cell_type": "markdown",
   "id": "29d3ec7f",
   "metadata": {},
   "source": [
    "## Ridge Regression lambda = 100"
   ]
  },
  {
   "cell_type": "code",
   "execution_count": 47,
   "id": "e0cfcac6",
   "metadata": {},
   "outputs": [
    {
     "name": "stdout",
     "output_type": "stream",
     "text": [
      "AtBat           3.911359\n",
      "Hits           36.096360\n",
      "HmRun           1.736680\n",
      "Runs           19.611659\n",
      "RBI            32.219132\n",
      "Walks          43.972410\n",
      "Years           8.496447\n",
      "CAtBat         17.992839\n",
      "CHits          32.545056\n",
      "CHmRun         41.512925\n",
      "CRuns          33.271936\n",
      "CRBI           41.571334\n",
      "CWalks         25.535833\n",
      "PutOuts        75.761366\n",
      "Assists        -2.475953\n",
      "Errors         -0.792667\n",
      "League_N        8.214298\n",
      "Division_W    -41.608368\n",
      "NewLeague_N     5.211955\n",
      "dtype: float64\n",
      "Mean Squared Error:  100357.25470322548\n"
     ]
    }
   ],
   "source": [
    "Ridge_Regression(100)"
   ]
  },
  {
   "cell_type": "markdown",
   "id": "326c2b0a",
   "metadata": {},
   "source": [
    "## Ridge Regression lambda = 10**10"
   ]
  },
  {
   "cell_type": "code",
   "execution_count": 48,
   "id": "d3c0bcd2",
   "metadata": {},
   "outputs": [
    {
     "name": "stdout",
     "output_type": "stream",
     "text": [
      "AtBat          2.526133e-06\n",
      "Hits           2.826091e-06\n",
      "HmRun          2.174902e-06\n",
      "Runs           2.632138e-06\n",
      "RBI            3.183658e-06\n",
      "Walks          2.941154e-06\n",
      "Years          2.478179e-06\n",
      "CAtBat         3.213788e-06\n",
      "CHits          3.432349e-06\n",
      "CHmRun         3.435819e-06\n",
      "CRuns          3.522298e-06\n",
      "CRBI           3.602930e-06\n",
      "CWalks         3.216811e-06\n",
      "PutOuts        2.851209e-06\n",
      "Assists       -4.856786e-08\n",
      "Errors         1.736624e-07\n",
      "League_N      -1.637144e-07\n",
      "Division_W    -1.015188e-06\n",
      "NewLeague_N   -1.325154e-07\n",
      "dtype: float64\n",
      "Mean Squared Error:  172862.2200557664\n"
     ]
    }
   ],
   "source": [
    "Ridge_Regression(10**10)"
   ]
  },
  {
   "cell_type": "markdown",
   "id": "a1535451",
   "metadata": {},
   "source": [
    "## Cross Validation - RidgeCV"
   ]
  },
  {
   "cell_type": "markdown",
   "id": "61128be4",
   "metadata": {},
   "source": [
    "### RidgeCV (cv=none)"
   ]
  },
  {
   "cell_type": "code",
   "execution_count": 49,
   "id": "e014acfd",
   "metadata": {},
   "outputs": [],
   "source": [
    "scaler = StandardScaler()"
   ]
  },
  {
   "cell_type": "code",
   "execution_count": 50,
   "id": "87c3168f",
   "metadata": {},
   "outputs": [],
   "source": [
    "ridgecv = RidgeCV(alphas=alphas)"
   ]
  },
  {
   "cell_type": "code",
   "execution_count": 51,
   "id": "40ab5ddc",
   "metadata": {},
   "outputs": [
    {
     "data": {
      "text/html": [
       "<style>#sk-container-id-1 {color: black;}#sk-container-id-1 pre{padding: 0;}#sk-container-id-1 div.sk-toggleable {background-color: white;}#sk-container-id-1 label.sk-toggleable__label {cursor: pointer;display: block;width: 100%;margin-bottom: 0;padding: 0.3em;box-sizing: border-box;text-align: center;}#sk-container-id-1 label.sk-toggleable__label-arrow:before {content: \"▸\";float: left;margin-right: 0.25em;color: #696969;}#sk-container-id-1 label.sk-toggleable__label-arrow:hover:before {color: black;}#sk-container-id-1 div.sk-estimator:hover label.sk-toggleable__label-arrow:before {color: black;}#sk-container-id-1 div.sk-toggleable__content {max-height: 0;max-width: 0;overflow: hidden;text-align: left;background-color: #f0f8ff;}#sk-container-id-1 div.sk-toggleable__content pre {margin: 0.2em;color: black;border-radius: 0.25em;background-color: #f0f8ff;}#sk-container-id-1 input.sk-toggleable__control:checked~div.sk-toggleable__content {max-height: 200px;max-width: 100%;overflow: auto;}#sk-container-id-1 input.sk-toggleable__control:checked~label.sk-toggleable__label-arrow:before {content: \"▾\";}#sk-container-id-1 div.sk-estimator input.sk-toggleable__control:checked~label.sk-toggleable__label {background-color: #d4ebff;}#sk-container-id-1 div.sk-label input.sk-toggleable__control:checked~label.sk-toggleable__label {background-color: #d4ebff;}#sk-container-id-1 input.sk-hidden--visually {border: 0;clip: rect(1px 1px 1px 1px);clip: rect(1px, 1px, 1px, 1px);height: 1px;margin: -1px;overflow: hidden;padding: 0;position: absolute;width: 1px;}#sk-container-id-1 div.sk-estimator {font-family: monospace;background-color: #f0f8ff;border: 1px dotted black;border-radius: 0.25em;box-sizing: border-box;margin-bottom: 0.5em;}#sk-container-id-1 div.sk-estimator:hover {background-color: #d4ebff;}#sk-container-id-1 div.sk-parallel-item::after {content: \"\";width: 100%;border-bottom: 1px solid gray;flex-grow: 1;}#sk-container-id-1 div.sk-label:hover label.sk-toggleable__label {background-color: #d4ebff;}#sk-container-id-1 div.sk-serial::before {content: \"\";position: absolute;border-left: 1px solid gray;box-sizing: border-box;top: 0;bottom: 0;left: 50%;z-index: 0;}#sk-container-id-1 div.sk-serial {display: flex;flex-direction: column;align-items: center;background-color: white;padding-right: 0.2em;padding-left: 0.2em;position: relative;}#sk-container-id-1 div.sk-item {position: relative;z-index: 1;}#sk-container-id-1 div.sk-parallel {display: flex;align-items: stretch;justify-content: center;background-color: white;position: relative;}#sk-container-id-1 div.sk-item::before, #sk-container-id-1 div.sk-parallel-item::before {content: \"\";position: absolute;border-left: 1px solid gray;box-sizing: border-box;top: 0;bottom: 0;left: 50%;z-index: -1;}#sk-container-id-1 div.sk-parallel-item {display: flex;flex-direction: column;z-index: 1;position: relative;background-color: white;}#sk-container-id-1 div.sk-parallel-item:first-child::after {align-self: flex-end;width: 50%;}#sk-container-id-1 div.sk-parallel-item:last-child::after {align-self: flex-start;width: 50%;}#sk-container-id-1 div.sk-parallel-item:only-child::after {width: 0;}#sk-container-id-1 div.sk-dashed-wrapped {border: 1px dashed gray;margin: 0 0.4em 0.5em 0.4em;box-sizing: border-box;padding-bottom: 0.4em;background-color: white;}#sk-container-id-1 div.sk-label label {font-family: monospace;font-weight: bold;display: inline-block;line-height: 1.2em;}#sk-container-id-1 div.sk-label-container {text-align: center;}#sk-container-id-1 div.sk-container {/* jupyter's `normalize.less` sets `[hidden] { display: none; }` but bootstrap.min.css set `[hidden] { display: none !important; }` so we also need the `!important` here to be able to override the default hidden behavior on the sphinx rendered scikit-learn.org. See: https://github.com/scikit-learn/scikit-learn/issues/21755 */display: inline-block !important;position: relative;}#sk-container-id-1 div.sk-text-repr-fallback {display: none;}</style><div id=\"sk-container-id-1\" class=\"sk-top-container\"><div class=\"sk-text-repr-fallback\"><pre>RidgeCV(alphas=array([1.00000000e+05, 7.56463328e+04, 5.72236766e+04, 4.32876128e+04,\n",
       "       3.27454916e+04, 2.47707636e+04, 1.87381742e+04, 1.41747416e+04,\n",
       "       1.07226722e+04, 8.11130831e+03, 6.13590727e+03, 4.64158883e+03,\n",
       "       3.51119173e+03, 2.65608778e+03, 2.00923300e+03, 1.51991108e+03,\n",
       "       1.14975700e+03, 8.69749003e+02, 6.57933225e+02, 4.97702356e+02,\n",
       "       3.76493581e+02, 2.84803587e+0...\n",
       "       6.13590727e-05, 4.64158883e-05, 3.51119173e-05, 2.65608778e-05,\n",
       "       2.00923300e-05, 1.51991108e-05, 1.14975700e-05, 8.69749003e-06,\n",
       "       6.57933225e-06, 4.97702356e-06, 3.76493581e-06, 2.84803587e-06,\n",
       "       2.15443469e-06, 1.62975083e-06, 1.23284674e-06, 9.32603347e-07,\n",
       "       7.05480231e-07, 5.33669923e-07, 4.03701726e-07, 3.05385551e-07,\n",
       "       2.31012970e-07, 1.74752840e-07, 1.32194115e-07, 1.00000000e-07]))</pre><b>In a Jupyter environment, please rerun this cell to show the HTML representation or trust the notebook. <br />On GitHub, the HTML representation is unable to render, please try loading this page with nbviewer.org.</b></div><div class=\"sk-container\" hidden><div class=\"sk-item\"><div class=\"sk-estimator sk-toggleable\"><input class=\"sk-toggleable__control sk-hidden--visually\" id=\"sk-estimator-id-1\" type=\"checkbox\" checked><label for=\"sk-estimator-id-1\" class=\"sk-toggleable__label sk-toggleable__label-arrow\">RidgeCV</label><div class=\"sk-toggleable__content\"><pre>RidgeCV(alphas=array([1.00000000e+05, 7.56463328e+04, 5.72236766e+04, 4.32876128e+04,\n",
       "       3.27454916e+04, 2.47707636e+04, 1.87381742e+04, 1.41747416e+04,\n",
       "       1.07226722e+04, 8.11130831e+03, 6.13590727e+03, 4.64158883e+03,\n",
       "       3.51119173e+03, 2.65608778e+03, 2.00923300e+03, 1.51991108e+03,\n",
       "       1.14975700e+03, 8.69749003e+02, 6.57933225e+02, 4.97702356e+02,\n",
       "       3.76493581e+02, 2.84803587e+0...\n",
       "       6.13590727e-05, 4.64158883e-05, 3.51119173e-05, 2.65608778e-05,\n",
       "       2.00923300e-05, 1.51991108e-05, 1.14975700e-05, 8.69749003e-06,\n",
       "       6.57933225e-06, 4.97702356e-06, 3.76493581e-06, 2.84803587e-06,\n",
       "       2.15443469e-06, 1.62975083e-06, 1.23284674e-06, 9.32603347e-07,\n",
       "       7.05480231e-07, 5.33669923e-07, 4.03701726e-07, 3.05385551e-07,\n",
       "       2.31012970e-07, 1.74752840e-07, 1.32194115e-07, 1.00000000e-07]))</pre></div></div></div></div></div>"
      ],
      "text/plain": [
       "RidgeCV(alphas=array([1.00000000e+05, 7.56463328e+04, 5.72236766e+04, 4.32876128e+04,\n",
       "       3.27454916e+04, 2.47707636e+04, 1.87381742e+04, 1.41747416e+04,\n",
       "       1.07226722e+04, 8.11130831e+03, 6.13590727e+03, 4.64158883e+03,\n",
       "       3.51119173e+03, 2.65608778e+03, 2.00923300e+03, 1.51991108e+03,\n",
       "       1.14975700e+03, 8.69749003e+02, 6.57933225e+02, 4.97702356e+02,\n",
       "       3.76493581e+02, 2.84803587e+0...\n",
       "       6.13590727e-05, 4.64158883e-05, 3.51119173e-05, 2.65608778e-05,\n",
       "       2.00923300e-05, 1.51991108e-05, 1.14975700e-05, 8.69749003e-06,\n",
       "       6.57933225e-06, 4.97702356e-06, 3.76493581e-06, 2.84803587e-06,\n",
       "       2.15443469e-06, 1.62975083e-06, 1.23284674e-06, 9.32603347e-07,\n",
       "       7.05480231e-07, 5.33669923e-07, 4.03701726e-07, 3.05385551e-07,\n",
       "       2.31012970e-07, 1.74752840e-07, 1.32194115e-07, 1.00000000e-07]))"
      ]
     },
     "execution_count": 51,
     "metadata": {},
     "output_type": "execute_result"
    }
   ],
   "source": [
    "ridgecv.fit(scaler.fit_transform(X_train), y_train)"
   ]
  },
  {
   "cell_type": "code",
   "execution_count": 52,
   "id": "60fdd6b2",
   "metadata": {},
   "outputs": [
    {
     "data": {
      "text/plain": [
       "70.54802310718645"
      ]
     },
     "execution_count": 52,
     "metadata": {},
     "output_type": "execute_result"
    }
   ],
   "source": [
    "ridgecv.alpha_ "
   ]
  },
  {
   "cell_type": "markdown",
   "id": "086c190c",
   "metadata": {},
   "source": [
    "## RidgeCV (cv=5)"
   ]
  },
  {
   "cell_type": "code",
   "execution_count": 53,
   "id": "3329b5fd",
   "metadata": {},
   "outputs": [],
   "source": [
    "scaler = StandardScaler()"
   ]
  },
  {
   "cell_type": "code",
   "execution_count": 54,
   "id": "165b01ae",
   "metadata": {},
   "outputs": [],
   "source": [
    "ridgecv = RidgeCV(alphas=alphas, cv=5)"
   ]
  },
  {
   "cell_type": "code",
   "execution_count": 55,
   "id": "3113a72b",
   "metadata": {},
   "outputs": [
    {
     "data": {
      "text/html": [
       "<style>#sk-container-id-2 {color: black;}#sk-container-id-2 pre{padding: 0;}#sk-container-id-2 div.sk-toggleable {background-color: white;}#sk-container-id-2 label.sk-toggleable__label {cursor: pointer;display: block;width: 100%;margin-bottom: 0;padding: 0.3em;box-sizing: border-box;text-align: center;}#sk-container-id-2 label.sk-toggleable__label-arrow:before {content: \"▸\";float: left;margin-right: 0.25em;color: #696969;}#sk-container-id-2 label.sk-toggleable__label-arrow:hover:before {color: black;}#sk-container-id-2 div.sk-estimator:hover label.sk-toggleable__label-arrow:before {color: black;}#sk-container-id-2 div.sk-toggleable__content {max-height: 0;max-width: 0;overflow: hidden;text-align: left;background-color: #f0f8ff;}#sk-container-id-2 div.sk-toggleable__content pre {margin: 0.2em;color: black;border-radius: 0.25em;background-color: #f0f8ff;}#sk-container-id-2 input.sk-toggleable__control:checked~div.sk-toggleable__content {max-height: 200px;max-width: 100%;overflow: auto;}#sk-container-id-2 input.sk-toggleable__control:checked~label.sk-toggleable__label-arrow:before {content: \"▾\";}#sk-container-id-2 div.sk-estimator input.sk-toggleable__control:checked~label.sk-toggleable__label {background-color: #d4ebff;}#sk-container-id-2 div.sk-label input.sk-toggleable__control:checked~label.sk-toggleable__label {background-color: #d4ebff;}#sk-container-id-2 input.sk-hidden--visually {border: 0;clip: rect(1px 1px 1px 1px);clip: rect(1px, 1px, 1px, 1px);height: 1px;margin: -1px;overflow: hidden;padding: 0;position: absolute;width: 1px;}#sk-container-id-2 div.sk-estimator {font-family: monospace;background-color: #f0f8ff;border: 1px dotted black;border-radius: 0.25em;box-sizing: border-box;margin-bottom: 0.5em;}#sk-container-id-2 div.sk-estimator:hover {background-color: #d4ebff;}#sk-container-id-2 div.sk-parallel-item::after {content: \"\";width: 100%;border-bottom: 1px solid gray;flex-grow: 1;}#sk-container-id-2 div.sk-label:hover label.sk-toggleable__label {background-color: #d4ebff;}#sk-container-id-2 div.sk-serial::before {content: \"\";position: absolute;border-left: 1px solid gray;box-sizing: border-box;top: 0;bottom: 0;left: 50%;z-index: 0;}#sk-container-id-2 div.sk-serial {display: flex;flex-direction: column;align-items: center;background-color: white;padding-right: 0.2em;padding-left: 0.2em;position: relative;}#sk-container-id-2 div.sk-item {position: relative;z-index: 1;}#sk-container-id-2 div.sk-parallel {display: flex;align-items: stretch;justify-content: center;background-color: white;position: relative;}#sk-container-id-2 div.sk-item::before, #sk-container-id-2 div.sk-parallel-item::before {content: \"\";position: absolute;border-left: 1px solid gray;box-sizing: border-box;top: 0;bottom: 0;left: 50%;z-index: -1;}#sk-container-id-2 div.sk-parallel-item {display: flex;flex-direction: column;z-index: 1;position: relative;background-color: white;}#sk-container-id-2 div.sk-parallel-item:first-child::after {align-self: flex-end;width: 50%;}#sk-container-id-2 div.sk-parallel-item:last-child::after {align-self: flex-start;width: 50%;}#sk-container-id-2 div.sk-parallel-item:only-child::after {width: 0;}#sk-container-id-2 div.sk-dashed-wrapped {border: 1px dashed gray;margin: 0 0.4em 0.5em 0.4em;box-sizing: border-box;padding-bottom: 0.4em;background-color: white;}#sk-container-id-2 div.sk-label label {font-family: monospace;font-weight: bold;display: inline-block;line-height: 1.2em;}#sk-container-id-2 div.sk-label-container {text-align: center;}#sk-container-id-2 div.sk-container {/* jupyter's `normalize.less` sets `[hidden] { display: none; }` but bootstrap.min.css set `[hidden] { display: none !important; }` so we also need the `!important` here to be able to override the default hidden behavior on the sphinx rendered scikit-learn.org. See: https://github.com/scikit-learn/scikit-learn/issues/21755 */display: inline-block !important;position: relative;}#sk-container-id-2 div.sk-text-repr-fallback {display: none;}</style><div id=\"sk-container-id-2\" class=\"sk-top-container\"><div class=\"sk-text-repr-fallback\"><pre>RidgeCV(alphas=array([1.00000000e+05, 7.56463328e+04, 5.72236766e+04, 4.32876128e+04,\n",
       "       3.27454916e+04, 2.47707636e+04, 1.87381742e+04, 1.41747416e+04,\n",
       "       1.07226722e+04, 8.11130831e+03, 6.13590727e+03, 4.64158883e+03,\n",
       "       3.51119173e+03, 2.65608778e+03, 2.00923300e+03, 1.51991108e+03,\n",
       "       1.14975700e+03, 8.69749003e+02, 6.57933225e+02, 4.97702356e+02,\n",
       "       3.76493581e+02, 2.84803587e+0...\n",
       "       6.13590727e-05, 4.64158883e-05, 3.51119173e-05, 2.65608778e-05,\n",
       "       2.00923300e-05, 1.51991108e-05, 1.14975700e-05, 8.69749003e-06,\n",
       "       6.57933225e-06, 4.97702356e-06, 3.76493581e-06, 2.84803587e-06,\n",
       "       2.15443469e-06, 1.62975083e-06, 1.23284674e-06, 9.32603347e-07,\n",
       "       7.05480231e-07, 5.33669923e-07, 4.03701726e-07, 3.05385551e-07,\n",
       "       2.31012970e-07, 1.74752840e-07, 1.32194115e-07, 1.00000000e-07]),\n",
       "        cv=5)</pre><b>In a Jupyter environment, please rerun this cell to show the HTML representation or trust the notebook. <br />On GitHub, the HTML representation is unable to render, please try loading this page with nbviewer.org.</b></div><div class=\"sk-container\" hidden><div class=\"sk-item\"><div class=\"sk-estimator sk-toggleable\"><input class=\"sk-toggleable__control sk-hidden--visually\" id=\"sk-estimator-id-2\" type=\"checkbox\" checked><label for=\"sk-estimator-id-2\" class=\"sk-toggleable__label sk-toggleable__label-arrow\">RidgeCV</label><div class=\"sk-toggleable__content\"><pre>RidgeCV(alphas=array([1.00000000e+05, 7.56463328e+04, 5.72236766e+04, 4.32876128e+04,\n",
       "       3.27454916e+04, 2.47707636e+04, 1.87381742e+04, 1.41747416e+04,\n",
       "       1.07226722e+04, 8.11130831e+03, 6.13590727e+03, 4.64158883e+03,\n",
       "       3.51119173e+03, 2.65608778e+03, 2.00923300e+03, 1.51991108e+03,\n",
       "       1.14975700e+03, 8.69749003e+02, 6.57933225e+02, 4.97702356e+02,\n",
       "       3.76493581e+02, 2.84803587e+0...\n",
       "       6.13590727e-05, 4.64158883e-05, 3.51119173e-05, 2.65608778e-05,\n",
       "       2.00923300e-05, 1.51991108e-05, 1.14975700e-05, 8.69749003e-06,\n",
       "       6.57933225e-06, 4.97702356e-06, 3.76493581e-06, 2.84803587e-06,\n",
       "       2.15443469e-06, 1.62975083e-06, 1.23284674e-06, 9.32603347e-07,\n",
       "       7.05480231e-07, 5.33669923e-07, 4.03701726e-07, 3.05385551e-07,\n",
       "       2.31012970e-07, 1.74752840e-07, 1.32194115e-07, 1.00000000e-07]),\n",
       "        cv=5)</pre></div></div></div></div></div>"
      ],
      "text/plain": [
       "RidgeCV(alphas=array([1.00000000e+05, 7.56463328e+04, 5.72236766e+04, 4.32876128e+04,\n",
       "       3.27454916e+04, 2.47707636e+04, 1.87381742e+04, 1.41747416e+04,\n",
       "       1.07226722e+04, 8.11130831e+03, 6.13590727e+03, 4.64158883e+03,\n",
       "       3.51119173e+03, 2.65608778e+03, 2.00923300e+03, 1.51991108e+03,\n",
       "       1.14975700e+03, 8.69749003e+02, 6.57933225e+02, 4.97702356e+02,\n",
       "       3.76493581e+02, 2.84803587e+0...\n",
       "       6.13590727e-05, 4.64158883e-05, 3.51119173e-05, 2.65608778e-05,\n",
       "       2.00923300e-05, 1.51991108e-05, 1.14975700e-05, 8.69749003e-06,\n",
       "       6.57933225e-06, 4.97702356e-06, 3.76493581e-06, 2.84803587e-06,\n",
       "       2.15443469e-06, 1.62975083e-06, 1.23284674e-06, 9.32603347e-07,\n",
       "       7.05480231e-07, 5.33669923e-07, 4.03701726e-07, 3.05385551e-07,\n",
       "       2.31012970e-07, 1.74752840e-07, 1.32194115e-07, 1.00000000e-07]),\n",
       "        cv=5)"
      ]
     },
     "execution_count": 55,
     "metadata": {},
     "output_type": "execute_result"
    }
   ],
   "source": [
    "ridgecv.fit(scaler.fit_transform(X_train), y_train)"
   ]
  },
  {
   "cell_type": "code",
   "execution_count": 56,
   "id": "cf852c45",
   "metadata": {},
   "outputs": [
    {
     "data": {
      "text/plain": [
       "93.26033468832199"
      ]
     },
     "execution_count": 56,
     "metadata": {},
     "output_type": "execute_result"
    }
   ],
   "source": [
    "ridgecv.alpha_ "
   ]
  },
  {
   "cell_type": "markdown",
   "id": "9311bfc6",
   "metadata": {},
   "source": [
    "## RidgeCV (cv=10)"
   ]
  },
  {
   "cell_type": "code",
   "execution_count": 57,
   "id": "a0423023",
   "metadata": {},
   "outputs": [],
   "source": [
    "scaler = StandardScaler()"
   ]
  },
  {
   "cell_type": "code",
   "execution_count": 58,
   "id": "31b615f1",
   "metadata": {},
   "outputs": [],
   "source": [
    "ridgecv = RidgeCV(alphas=alphas, cv=10)"
   ]
  },
  {
   "cell_type": "code",
   "execution_count": 59,
   "id": "6df727cc",
   "metadata": {},
   "outputs": [
    {
     "data": {
      "text/html": [
       "<style>#sk-container-id-3 {color: black;}#sk-container-id-3 pre{padding: 0;}#sk-container-id-3 div.sk-toggleable {background-color: white;}#sk-container-id-3 label.sk-toggleable__label {cursor: pointer;display: block;width: 100%;margin-bottom: 0;padding: 0.3em;box-sizing: border-box;text-align: center;}#sk-container-id-3 label.sk-toggleable__label-arrow:before {content: \"▸\";float: left;margin-right: 0.25em;color: #696969;}#sk-container-id-3 label.sk-toggleable__label-arrow:hover:before {color: black;}#sk-container-id-3 div.sk-estimator:hover label.sk-toggleable__label-arrow:before {color: black;}#sk-container-id-3 div.sk-toggleable__content {max-height: 0;max-width: 0;overflow: hidden;text-align: left;background-color: #f0f8ff;}#sk-container-id-3 div.sk-toggleable__content pre {margin: 0.2em;color: black;border-radius: 0.25em;background-color: #f0f8ff;}#sk-container-id-3 input.sk-toggleable__control:checked~div.sk-toggleable__content {max-height: 200px;max-width: 100%;overflow: auto;}#sk-container-id-3 input.sk-toggleable__control:checked~label.sk-toggleable__label-arrow:before {content: \"▾\";}#sk-container-id-3 div.sk-estimator input.sk-toggleable__control:checked~label.sk-toggleable__label {background-color: #d4ebff;}#sk-container-id-3 div.sk-label input.sk-toggleable__control:checked~label.sk-toggleable__label {background-color: #d4ebff;}#sk-container-id-3 input.sk-hidden--visually {border: 0;clip: rect(1px 1px 1px 1px);clip: rect(1px, 1px, 1px, 1px);height: 1px;margin: -1px;overflow: hidden;padding: 0;position: absolute;width: 1px;}#sk-container-id-3 div.sk-estimator {font-family: monospace;background-color: #f0f8ff;border: 1px dotted black;border-radius: 0.25em;box-sizing: border-box;margin-bottom: 0.5em;}#sk-container-id-3 div.sk-estimator:hover {background-color: #d4ebff;}#sk-container-id-3 div.sk-parallel-item::after {content: \"\";width: 100%;border-bottom: 1px solid gray;flex-grow: 1;}#sk-container-id-3 div.sk-label:hover label.sk-toggleable__label {background-color: #d4ebff;}#sk-container-id-3 div.sk-serial::before {content: \"\";position: absolute;border-left: 1px solid gray;box-sizing: border-box;top: 0;bottom: 0;left: 50%;z-index: 0;}#sk-container-id-3 div.sk-serial {display: flex;flex-direction: column;align-items: center;background-color: white;padding-right: 0.2em;padding-left: 0.2em;position: relative;}#sk-container-id-3 div.sk-item {position: relative;z-index: 1;}#sk-container-id-3 div.sk-parallel {display: flex;align-items: stretch;justify-content: center;background-color: white;position: relative;}#sk-container-id-3 div.sk-item::before, #sk-container-id-3 div.sk-parallel-item::before {content: \"\";position: absolute;border-left: 1px solid gray;box-sizing: border-box;top: 0;bottom: 0;left: 50%;z-index: -1;}#sk-container-id-3 div.sk-parallel-item {display: flex;flex-direction: column;z-index: 1;position: relative;background-color: white;}#sk-container-id-3 div.sk-parallel-item:first-child::after {align-self: flex-end;width: 50%;}#sk-container-id-3 div.sk-parallel-item:last-child::after {align-self: flex-start;width: 50%;}#sk-container-id-3 div.sk-parallel-item:only-child::after {width: 0;}#sk-container-id-3 div.sk-dashed-wrapped {border: 1px dashed gray;margin: 0 0.4em 0.5em 0.4em;box-sizing: border-box;padding-bottom: 0.4em;background-color: white;}#sk-container-id-3 div.sk-label label {font-family: monospace;font-weight: bold;display: inline-block;line-height: 1.2em;}#sk-container-id-3 div.sk-label-container {text-align: center;}#sk-container-id-3 div.sk-container {/* jupyter's `normalize.less` sets `[hidden] { display: none; }` but bootstrap.min.css set `[hidden] { display: none !important; }` so we also need the `!important` here to be able to override the default hidden behavior on the sphinx rendered scikit-learn.org. See: https://github.com/scikit-learn/scikit-learn/issues/21755 */display: inline-block !important;position: relative;}#sk-container-id-3 div.sk-text-repr-fallback {display: none;}</style><div id=\"sk-container-id-3\" class=\"sk-top-container\"><div class=\"sk-text-repr-fallback\"><pre>RidgeCV(alphas=array([1.00000000e+05, 7.56463328e+04, 5.72236766e+04, 4.32876128e+04,\n",
       "       3.27454916e+04, 2.47707636e+04, 1.87381742e+04, 1.41747416e+04,\n",
       "       1.07226722e+04, 8.11130831e+03, 6.13590727e+03, 4.64158883e+03,\n",
       "       3.51119173e+03, 2.65608778e+03, 2.00923300e+03, 1.51991108e+03,\n",
       "       1.14975700e+03, 8.69749003e+02, 6.57933225e+02, 4.97702356e+02,\n",
       "       3.76493581e+02, 2.84803587e+0...\n",
       "       6.13590727e-05, 4.64158883e-05, 3.51119173e-05, 2.65608778e-05,\n",
       "       2.00923300e-05, 1.51991108e-05, 1.14975700e-05, 8.69749003e-06,\n",
       "       6.57933225e-06, 4.97702356e-06, 3.76493581e-06, 2.84803587e-06,\n",
       "       2.15443469e-06, 1.62975083e-06, 1.23284674e-06, 9.32603347e-07,\n",
       "       7.05480231e-07, 5.33669923e-07, 4.03701726e-07, 3.05385551e-07,\n",
       "       2.31012970e-07, 1.74752840e-07, 1.32194115e-07, 1.00000000e-07]),\n",
       "        cv=10)</pre><b>In a Jupyter environment, please rerun this cell to show the HTML representation or trust the notebook. <br />On GitHub, the HTML representation is unable to render, please try loading this page with nbviewer.org.</b></div><div class=\"sk-container\" hidden><div class=\"sk-item\"><div class=\"sk-estimator sk-toggleable\"><input class=\"sk-toggleable__control sk-hidden--visually\" id=\"sk-estimator-id-3\" type=\"checkbox\" checked><label for=\"sk-estimator-id-3\" class=\"sk-toggleable__label sk-toggleable__label-arrow\">RidgeCV</label><div class=\"sk-toggleable__content\"><pre>RidgeCV(alphas=array([1.00000000e+05, 7.56463328e+04, 5.72236766e+04, 4.32876128e+04,\n",
       "       3.27454916e+04, 2.47707636e+04, 1.87381742e+04, 1.41747416e+04,\n",
       "       1.07226722e+04, 8.11130831e+03, 6.13590727e+03, 4.64158883e+03,\n",
       "       3.51119173e+03, 2.65608778e+03, 2.00923300e+03, 1.51991108e+03,\n",
       "       1.14975700e+03, 8.69749003e+02, 6.57933225e+02, 4.97702356e+02,\n",
       "       3.76493581e+02, 2.84803587e+0...\n",
       "       6.13590727e-05, 4.64158883e-05, 3.51119173e-05, 2.65608778e-05,\n",
       "       2.00923300e-05, 1.51991108e-05, 1.14975700e-05, 8.69749003e-06,\n",
       "       6.57933225e-06, 4.97702356e-06, 3.76493581e-06, 2.84803587e-06,\n",
       "       2.15443469e-06, 1.62975083e-06, 1.23284674e-06, 9.32603347e-07,\n",
       "       7.05480231e-07, 5.33669923e-07, 4.03701726e-07, 3.05385551e-07,\n",
       "       2.31012970e-07, 1.74752840e-07, 1.32194115e-07, 1.00000000e-07]),\n",
       "        cv=10)</pre></div></div></div></div></div>"
      ],
      "text/plain": [
       "RidgeCV(alphas=array([1.00000000e+05, 7.56463328e+04, 5.72236766e+04, 4.32876128e+04,\n",
       "       3.27454916e+04, 2.47707636e+04, 1.87381742e+04, 1.41747416e+04,\n",
       "       1.07226722e+04, 8.11130831e+03, 6.13590727e+03, 4.64158883e+03,\n",
       "       3.51119173e+03, 2.65608778e+03, 2.00923300e+03, 1.51991108e+03,\n",
       "       1.14975700e+03, 8.69749003e+02, 6.57933225e+02, 4.97702356e+02,\n",
       "       3.76493581e+02, 2.84803587e+0...\n",
       "       6.13590727e-05, 4.64158883e-05, 3.51119173e-05, 2.65608778e-05,\n",
       "       2.00923300e-05, 1.51991108e-05, 1.14975700e-05, 8.69749003e-06,\n",
       "       6.57933225e-06, 4.97702356e-06, 3.76493581e-06, 2.84803587e-06,\n",
       "       2.15443469e-06, 1.62975083e-06, 1.23284674e-06, 9.32603347e-07,\n",
       "       7.05480231e-07, 5.33669923e-07, 4.03701726e-07, 3.05385551e-07,\n",
       "       2.31012970e-07, 1.74752840e-07, 1.32194115e-07, 1.00000000e-07]),\n",
       "        cv=10)"
      ]
     },
     "execution_count": 59,
     "metadata": {},
     "output_type": "execute_result"
    }
   ],
   "source": [
    "ridgecv.fit(scaler.fit_transform(X_train), y_train)"
   ]
  },
  {
   "cell_type": "code",
   "execution_count": 60,
   "id": "38d42d63",
   "metadata": {},
   "outputs": [
    {
     "data": {
      "text/plain": [
       "215.44346900318826"
      ]
     },
     "execution_count": 60,
     "metadata": {},
     "output_type": "execute_result"
    }
   ],
   "source": [
    "ridgecv.alpha_ "
   ]
  },
  {
   "cell_type": "markdown",
   "id": "0068f719",
   "metadata": {},
   "source": [
    "## Optimal Ridge Regression"
   ]
  },
  {
   "cell_type": "markdown",
   "id": "3a9e4412",
   "metadata": {},
   "source": [
    "### Optimal Ridge Regression"
   ]
  },
  {
   "cell_type": "code",
   "execution_count": 61,
   "id": "5c80fa20",
   "metadata": {},
   "outputs": [],
   "source": [
    "scaler = StandardScaler()"
   ]
  },
  {
   "cell_type": "code",
   "execution_count": 62,
   "id": "0e797f3a",
   "metadata": {},
   "outputs": [],
   "source": [
    "opt_ridge = Ridge(alpha=ridgecv.alpha_) "
   ]
  },
  {
   "cell_type": "code",
   "execution_count": 63,
   "id": "a0b2f5fb",
   "metadata": {},
   "outputs": [
    {
     "data": {
      "text/html": [
       "<style>#sk-container-id-4 {color: black;}#sk-container-id-4 pre{padding: 0;}#sk-container-id-4 div.sk-toggleable {background-color: white;}#sk-container-id-4 label.sk-toggleable__label {cursor: pointer;display: block;width: 100%;margin-bottom: 0;padding: 0.3em;box-sizing: border-box;text-align: center;}#sk-container-id-4 label.sk-toggleable__label-arrow:before {content: \"▸\";float: left;margin-right: 0.25em;color: #696969;}#sk-container-id-4 label.sk-toggleable__label-arrow:hover:before {color: black;}#sk-container-id-4 div.sk-estimator:hover label.sk-toggleable__label-arrow:before {color: black;}#sk-container-id-4 div.sk-toggleable__content {max-height: 0;max-width: 0;overflow: hidden;text-align: left;background-color: #f0f8ff;}#sk-container-id-4 div.sk-toggleable__content pre {margin: 0.2em;color: black;border-radius: 0.25em;background-color: #f0f8ff;}#sk-container-id-4 input.sk-toggleable__control:checked~div.sk-toggleable__content {max-height: 200px;max-width: 100%;overflow: auto;}#sk-container-id-4 input.sk-toggleable__control:checked~label.sk-toggleable__label-arrow:before {content: \"▾\";}#sk-container-id-4 div.sk-estimator input.sk-toggleable__control:checked~label.sk-toggleable__label {background-color: #d4ebff;}#sk-container-id-4 div.sk-label input.sk-toggleable__control:checked~label.sk-toggleable__label {background-color: #d4ebff;}#sk-container-id-4 input.sk-hidden--visually {border: 0;clip: rect(1px 1px 1px 1px);clip: rect(1px, 1px, 1px, 1px);height: 1px;margin: -1px;overflow: hidden;padding: 0;position: absolute;width: 1px;}#sk-container-id-4 div.sk-estimator {font-family: monospace;background-color: #f0f8ff;border: 1px dotted black;border-radius: 0.25em;box-sizing: border-box;margin-bottom: 0.5em;}#sk-container-id-4 div.sk-estimator:hover {background-color: #d4ebff;}#sk-container-id-4 div.sk-parallel-item::after {content: \"\";width: 100%;border-bottom: 1px solid gray;flex-grow: 1;}#sk-container-id-4 div.sk-label:hover label.sk-toggleable__label {background-color: #d4ebff;}#sk-container-id-4 div.sk-serial::before {content: \"\";position: absolute;border-left: 1px solid gray;box-sizing: border-box;top: 0;bottom: 0;left: 50%;z-index: 0;}#sk-container-id-4 div.sk-serial {display: flex;flex-direction: column;align-items: center;background-color: white;padding-right: 0.2em;padding-left: 0.2em;position: relative;}#sk-container-id-4 div.sk-item {position: relative;z-index: 1;}#sk-container-id-4 div.sk-parallel {display: flex;align-items: stretch;justify-content: center;background-color: white;position: relative;}#sk-container-id-4 div.sk-item::before, #sk-container-id-4 div.sk-parallel-item::before {content: \"\";position: absolute;border-left: 1px solid gray;box-sizing: border-box;top: 0;bottom: 0;left: 50%;z-index: -1;}#sk-container-id-4 div.sk-parallel-item {display: flex;flex-direction: column;z-index: 1;position: relative;background-color: white;}#sk-container-id-4 div.sk-parallel-item:first-child::after {align-self: flex-end;width: 50%;}#sk-container-id-4 div.sk-parallel-item:last-child::after {align-self: flex-start;width: 50%;}#sk-container-id-4 div.sk-parallel-item:only-child::after {width: 0;}#sk-container-id-4 div.sk-dashed-wrapped {border: 1px dashed gray;margin: 0 0.4em 0.5em 0.4em;box-sizing: border-box;padding-bottom: 0.4em;background-color: white;}#sk-container-id-4 div.sk-label label {font-family: monospace;font-weight: bold;display: inline-block;line-height: 1.2em;}#sk-container-id-4 div.sk-label-container {text-align: center;}#sk-container-id-4 div.sk-container {/* jupyter's `normalize.less` sets `[hidden] { display: none; }` but bootstrap.min.css set `[hidden] { display: none !important; }` so we also need the `!important` here to be able to override the default hidden behavior on the sphinx rendered scikit-learn.org. See: https://github.com/scikit-learn/scikit-learn/issues/21755 */display: inline-block !important;position: relative;}#sk-container-id-4 div.sk-text-repr-fallback {display: none;}</style><div id=\"sk-container-id-4\" class=\"sk-top-container\"><div class=\"sk-text-repr-fallback\"><pre>Ridge(alpha=215.44346900318826)</pre><b>In a Jupyter environment, please rerun this cell to show the HTML representation or trust the notebook. <br />On GitHub, the HTML representation is unable to render, please try loading this page with nbviewer.org.</b></div><div class=\"sk-container\" hidden><div class=\"sk-item\"><div class=\"sk-estimator sk-toggleable\"><input class=\"sk-toggleable__control sk-hidden--visually\" id=\"sk-estimator-id-4\" type=\"checkbox\" checked><label for=\"sk-estimator-id-4\" class=\"sk-toggleable__label sk-toggleable__label-arrow\">Ridge</label><div class=\"sk-toggleable__content\"><pre>Ridge(alpha=215.44346900318826)</pre></div></div></div></div></div>"
      ],
      "text/plain": [
       "Ridge(alpha=215.44346900318826)"
      ]
     },
     "execution_count": 63,
     "metadata": {},
     "output_type": "execute_result"
    }
   ],
   "source": [
    "opt_ridge.fit(scaler.fit_transform(X_train), y_train) "
   ]
  },
  {
   "cell_type": "code",
   "execution_count": 64,
   "id": "80a84b78",
   "metadata": {},
   "outputs": [],
   "source": [
    "pred = opt_ridge.predict(scaler.fit_transform(X_test))"
   ]
  },
  {
   "cell_type": "code",
   "execution_count": 65,
   "id": "91e3d0ba",
   "metadata": {},
   "outputs": [
    {
     "data": {
      "text/plain": [
       "99927.59735966552"
      ]
     },
     "execution_count": 65,
     "metadata": {},
     "output_type": "execute_result"
    }
   ],
   "source": [
    "mean_squared_error(y_test, pred)"
   ]
  },
  {
   "cell_type": "markdown",
   "id": "169ae2a5",
   "metadata": {},
   "source": [
    "## Ridge Regression - Full Dataset"
   ]
  },
  {
   "cell_type": "code",
   "execution_count": 66,
   "id": "fcbc0d0a",
   "metadata": {},
   "outputs": [
    {
     "data": {
      "text/html": [
       "<style>#sk-container-id-5 {color: black;}#sk-container-id-5 pre{padding: 0;}#sk-container-id-5 div.sk-toggleable {background-color: white;}#sk-container-id-5 label.sk-toggleable__label {cursor: pointer;display: block;width: 100%;margin-bottom: 0;padding: 0.3em;box-sizing: border-box;text-align: center;}#sk-container-id-5 label.sk-toggleable__label-arrow:before {content: \"▸\";float: left;margin-right: 0.25em;color: #696969;}#sk-container-id-5 label.sk-toggleable__label-arrow:hover:before {color: black;}#sk-container-id-5 div.sk-estimator:hover label.sk-toggleable__label-arrow:before {color: black;}#sk-container-id-5 div.sk-toggleable__content {max-height: 0;max-width: 0;overflow: hidden;text-align: left;background-color: #f0f8ff;}#sk-container-id-5 div.sk-toggleable__content pre {margin: 0.2em;color: black;border-radius: 0.25em;background-color: #f0f8ff;}#sk-container-id-5 input.sk-toggleable__control:checked~div.sk-toggleable__content {max-height: 200px;max-width: 100%;overflow: auto;}#sk-container-id-5 input.sk-toggleable__control:checked~label.sk-toggleable__label-arrow:before {content: \"▾\";}#sk-container-id-5 div.sk-estimator input.sk-toggleable__control:checked~label.sk-toggleable__label {background-color: #d4ebff;}#sk-container-id-5 div.sk-label input.sk-toggleable__control:checked~label.sk-toggleable__label {background-color: #d4ebff;}#sk-container-id-5 input.sk-hidden--visually {border: 0;clip: rect(1px 1px 1px 1px);clip: rect(1px, 1px, 1px, 1px);height: 1px;margin: -1px;overflow: hidden;padding: 0;position: absolute;width: 1px;}#sk-container-id-5 div.sk-estimator {font-family: monospace;background-color: #f0f8ff;border: 1px dotted black;border-radius: 0.25em;box-sizing: border-box;margin-bottom: 0.5em;}#sk-container-id-5 div.sk-estimator:hover {background-color: #d4ebff;}#sk-container-id-5 div.sk-parallel-item::after {content: \"\";width: 100%;border-bottom: 1px solid gray;flex-grow: 1;}#sk-container-id-5 div.sk-label:hover label.sk-toggleable__label {background-color: #d4ebff;}#sk-container-id-5 div.sk-serial::before {content: \"\";position: absolute;border-left: 1px solid gray;box-sizing: border-box;top: 0;bottom: 0;left: 50%;z-index: 0;}#sk-container-id-5 div.sk-serial {display: flex;flex-direction: column;align-items: center;background-color: white;padding-right: 0.2em;padding-left: 0.2em;position: relative;}#sk-container-id-5 div.sk-item {position: relative;z-index: 1;}#sk-container-id-5 div.sk-parallel {display: flex;align-items: stretch;justify-content: center;background-color: white;position: relative;}#sk-container-id-5 div.sk-item::before, #sk-container-id-5 div.sk-parallel-item::before {content: \"\";position: absolute;border-left: 1px solid gray;box-sizing: border-box;top: 0;bottom: 0;left: 50%;z-index: -1;}#sk-container-id-5 div.sk-parallel-item {display: flex;flex-direction: column;z-index: 1;position: relative;background-color: white;}#sk-container-id-5 div.sk-parallel-item:first-child::after {align-self: flex-end;width: 50%;}#sk-container-id-5 div.sk-parallel-item:last-child::after {align-self: flex-start;width: 50%;}#sk-container-id-5 div.sk-parallel-item:only-child::after {width: 0;}#sk-container-id-5 div.sk-dashed-wrapped {border: 1px dashed gray;margin: 0 0.4em 0.5em 0.4em;box-sizing: border-box;padding-bottom: 0.4em;background-color: white;}#sk-container-id-5 div.sk-label label {font-family: monospace;font-weight: bold;display: inline-block;line-height: 1.2em;}#sk-container-id-5 div.sk-label-container {text-align: center;}#sk-container-id-5 div.sk-container {/* jupyter's `normalize.less` sets `[hidden] { display: none; }` but bootstrap.min.css set `[hidden] { display: none !important; }` so we also need the `!important` here to be able to override the default hidden behavior on the sphinx rendered scikit-learn.org. See: https://github.com/scikit-learn/scikit-learn/issues/21755 */display: inline-block !important;position: relative;}#sk-container-id-5 div.sk-text-repr-fallback {display: none;}</style><div id=\"sk-container-id-5\" class=\"sk-top-container\"><div class=\"sk-text-repr-fallback\"><pre>Ridge(alpha=215.44346900318826)</pre><b>In a Jupyter environment, please rerun this cell to show the HTML representation or trust the notebook. <br />On GitHub, the HTML representation is unable to render, please try loading this page with nbviewer.org.</b></div><div class=\"sk-container\" hidden><div class=\"sk-item\"><div class=\"sk-estimator sk-toggleable\"><input class=\"sk-toggleable__control sk-hidden--visually\" id=\"sk-estimator-id-5\" type=\"checkbox\" checked><label for=\"sk-estimator-id-5\" class=\"sk-toggleable__label sk-toggleable__label-arrow\">Ridge</label><div class=\"sk-toggleable__content\"><pre>Ridge(alpha=215.44346900318826)</pre></div></div></div></div></div>"
      ],
      "text/plain": [
       "Ridge(alpha=215.44346900318826)"
      ]
     },
     "execution_count": 66,
     "metadata": {},
     "output_type": "execute_result"
    }
   ],
   "source": [
    "opt_ridge.fit(X, y) "
   ]
  },
  {
   "cell_type": "code",
   "execution_count": 67,
   "id": "3dcc4782",
   "metadata": {},
   "outputs": [
    {
     "data": {
      "text/plain": [
       "AtBat          -2.131693\n",
       "Hits            7.609983\n",
       "HmRun           2.357328\n",
       "Runs           -1.956615\n",
       "RBI            -0.149830\n",
       "Walks           6.049360\n",
       "Years          -1.913856\n",
       "CAtBat         -0.181229\n",
       "CHits           0.103239\n",
       "CHmRun         -0.176791\n",
       "CRuns           1.565492\n",
       "CRBI            0.788984\n",
       "CWalks         -0.787067\n",
       "PutOuts         0.291609\n",
       "Assists         0.379783\n",
       "Errors         -2.890302\n",
       "League_N        8.754551\n",
       "Division_W    -26.039641\n",
       "NewLeague_N     5.471489\n",
       "dtype: float64"
      ]
     },
     "execution_count": 67,
     "metadata": {},
     "output_type": "execute_result"
    }
   ],
   "source": [
    "pd.Series(opt_ridge.coef_, index=X.columns) "
   ]
  },
  {
   "cell_type": "markdown",
   "id": "ac6b51b8",
   "metadata": {},
   "source": [
    "## Lasso Regression"
   ]
  },
  {
   "cell_type": "markdown",
   "id": "40787b6a",
   "metadata": {},
   "source": [
    "### Lasso Regression"
   ]
  },
  {
   "cell_type": "code",
   "execution_count": 68,
   "id": "c78e7d65",
   "metadata": {},
   "outputs": [],
   "source": [
    "lasso = Lasso(max_iter=100000)"
   ]
  },
  {
   "cell_type": "code",
   "execution_count": 69,
   "id": "644ad430",
   "metadata": {},
   "outputs": [],
   "source": [
    "coefs = []"
   ]
  },
  {
   "cell_type": "code",
   "execution_count": 70,
   "id": "825127b3",
   "metadata": {},
   "outputs": [],
   "source": [
    "scaler = StandardScaler()"
   ]
  },
  {
   "cell_type": "code",
   "execution_count": 71,
   "id": "22f65c46",
   "metadata": {},
   "outputs": [],
   "source": [
    "for a in alphas:\n",
    "    lasso.set_params(alpha=a)\n",
    "    lasso.fit(scaler.fit_transform(X_train), y_train)\n",
    "    coefs.append(lasso.coef_)"
   ]
  },
  {
   "cell_type": "code",
   "execution_count": 72,
   "id": "049d2b16",
   "metadata": {},
   "outputs": [
    {
     "data": {
      "image/png": "[encoded data removed]",
      "text/plain": [
       "<Figure size 640x480 with 1 Axes>"
      ]
     },
     "metadata": {},
     "output_type": "display_data"
    }
   ],
   "source": [
    "ax = plt.gca()\n",
    "ax.plot(alphas*2, coefs)\n",
    "ax.set_xscale('log') \n",
    "plt.axis('tight')\n",
    "plt.xlabel('Lambda')\n",
    "plt.ylabel('Coefficients') \n",
    "plt.title('Lasso coefficients as a function of lambda(alpha)');\n",
    "plt.show()"
   ]
  },
  {
   "cell_type": "markdown",
   "id": "59e61c77",
   "metadata": {},
   "source": [
    "## LassoCV"
   ]
  },
  {
   "cell_type": "markdown",
   "id": "3582bad0",
   "metadata": {},
   "source": [
    "### LassoCV - cv =10"
   ]
  },
  {
   "cell_type": "code",
   "execution_count": 73,
   "id": "f742de2b",
   "metadata": {},
   "outputs": [],
   "source": [
    "lassocv = LassoCV(alphas=None, cv=10, max_iter=100000)"
   ]
  },
  {
   "cell_type": "code",
   "execution_count": 74,
   "id": "eda49abe",
   "metadata": {},
   "outputs": [
    {
     "data": {
      "text/html": [
       "<style>#sk-container-id-6 {color: black;}#sk-container-id-6 pre{padding: 0;}#sk-container-id-6 div.sk-toggleable {background-color: white;}#sk-container-id-6 label.sk-toggleable__label {cursor: pointer;display: block;width: 100%;margin-bottom: 0;padding: 0.3em;box-sizing: border-box;text-align: center;}#sk-container-id-6 label.sk-toggleable__label-arrow:before {content: \"▸\";float: left;margin-right: 0.25em;color: #696969;}#sk-container-id-6 label.sk-toggleable__label-arrow:hover:before {color: black;}#sk-container-id-6 div.sk-estimator:hover label.sk-toggleable__label-arrow:before {color: black;}#sk-container-id-6 div.sk-toggleable__content {max-height: 0;max-width: 0;overflow: hidden;text-align: left;background-color: #f0f8ff;}#sk-container-id-6 div.sk-toggleable__content pre {margin: 0.2em;color: black;border-radius: 0.25em;background-color: #f0f8ff;}#sk-container-id-6 input.sk-toggleable__control:checked~div.sk-toggleable__content {max-height: 200px;max-width: 100%;overflow: auto;}#sk-container-id-6 input.sk-toggleable__control:checked~label.sk-toggleable__label-arrow:before {content: \"▾\";}#sk-container-id-6 div.sk-estimator input.sk-toggleable__control:checked~label.sk-toggleable__label {background-color: #d4ebff;}#sk-container-id-6 div.sk-label input.sk-toggleable__control:checked~label.sk-toggleable__label {background-color: #d4ebff;}#sk-container-id-6 input.sk-hidden--visually {border: 0;clip: rect(1px 1px 1px 1px);clip: rect(1px, 1px, 1px, 1px);height: 1px;margin: -1px;overflow: hidden;padding: 0;position: absolute;width: 1px;}#sk-container-id-6 div.sk-estimator {font-family: monospace;background-color: #f0f8ff;border: 1px dotted black;border-radius: 0.25em;box-sizing: border-box;margin-bottom: 0.5em;}#sk-container-id-6 div.sk-estimator:hover {background-color: #d4ebff;}#sk-container-id-6 div.sk-parallel-item::after {content: \"\";width: 100%;border-bottom: 1px solid gray;flex-grow: 1;}#sk-container-id-6 div.sk-label:hover label.sk-toggleable__label {background-color: #d4ebff;}#sk-container-id-6 div.sk-serial::before {content: \"\";position: absolute;border-left: 1px solid gray;box-sizing: border-box;top: 0;bottom: 0;left: 50%;z-index: 0;}#sk-container-id-6 div.sk-serial {display: flex;flex-direction: column;align-items: center;background-color: white;padding-right: 0.2em;padding-left: 0.2em;position: relative;}#sk-container-id-6 div.sk-item {position: relative;z-index: 1;}#sk-container-id-6 div.sk-parallel {display: flex;align-items: stretch;justify-content: center;background-color: white;position: relative;}#sk-container-id-6 div.sk-item::before, #sk-container-id-6 div.sk-parallel-item::before {content: \"\";position: absolute;border-left: 1px solid gray;box-sizing: border-box;top: 0;bottom: 0;left: 50%;z-index: -1;}#sk-container-id-6 div.sk-parallel-item {display: flex;flex-direction: column;z-index: 1;position: relative;background-color: white;}#sk-container-id-6 div.sk-parallel-item:first-child::after {align-self: flex-end;width: 50%;}#sk-container-id-6 div.sk-parallel-item:last-child::after {align-self: flex-start;width: 50%;}#sk-container-id-6 div.sk-parallel-item:only-child::after {width: 0;}#sk-container-id-6 div.sk-dashed-wrapped {border: 1px dashed gray;margin: 0 0.4em 0.5em 0.4em;box-sizing: border-box;padding-bottom: 0.4em;background-color: white;}#sk-container-id-6 div.sk-label label {font-family: monospace;font-weight: bold;display: inline-block;line-height: 1.2em;}#sk-container-id-6 div.sk-label-container {text-align: center;}#sk-container-id-6 div.sk-container {/* jupyter's `normalize.less` sets `[hidden] { display: none; }` but bootstrap.min.css set `[hidden] { display: none !important; }` so we also need the `!important` here to be able to override the default hidden behavior on the sphinx rendered scikit-learn.org. See: https://github.com/scikit-learn/scikit-learn/issues/21755 */display: inline-block !important;position: relative;}#sk-container-id-6 div.sk-text-repr-fallback {display: none;}</style><div id=\"sk-container-id-6\" class=\"sk-top-container\"><div class=\"sk-text-repr-fallback\"><pre>LassoCV(cv=10, max_iter=100000)</pre><b>In a Jupyter environment, please rerun this cell to show the HTML representation or trust the notebook. <br />On GitHub, the HTML representation is unable to render, please try loading this page with nbviewer.org.</b></div><div class=\"sk-container\" hidden><div class=\"sk-item\"><div class=\"sk-estimator sk-toggleable\"><input class=\"sk-toggleable__control sk-hidden--visually\" id=\"sk-estimator-id-6\" type=\"checkbox\" checked><label for=\"sk-estimator-id-6\" class=\"sk-toggleable__label sk-toggleable__label-arrow\">LassoCV</label><div class=\"sk-toggleable__content\"><pre>LassoCV(cv=10, max_iter=100000)</pre></div></div></div></div></div>"
      ],
      "text/plain": [
       "LassoCV(cv=10, max_iter=100000)"
      ]
     },
     "execution_count": 74,
     "metadata": {},
     "output_type": "execute_result"
    }
   ],
   "source": [
    "lassocv.fit(scaler.fit_transform(X_train), y_train) "
   ]
  },
  {
   "cell_type": "code",
   "execution_count": 75,
   "id": "fc10bb68",
   "metadata": {},
   "outputs": [
    {
     "data": {
      "text/plain": [
       "27.50328326187841"
      ]
     },
     "execution_count": 75,
     "metadata": {},
     "output_type": "execute_result"
    }
   ],
   "source": [
    "lassocv.alpha_"
   ]
  },
  {
   "cell_type": "markdown",
   "id": "c6d24572",
   "metadata": {},
   "source": [
    "## Optimal Lasso"
   ]
  },
  {
   "cell_type": "markdown",
   "id": "6c1aa982",
   "metadata": {},
   "source": [
    "### Optimal Lasso"
   ]
  },
  {
   "cell_type": "code",
   "execution_count": 76,
   "id": "bc70d2c3",
   "metadata": {},
   "outputs": [
    {
     "data": {
      "text/html": [
       "<style>#sk-container-id-7 {color: black;}#sk-container-id-7 pre{padding: 0;}#sk-container-id-7 div.sk-toggleable {background-color: white;}#sk-container-id-7 label.sk-toggleable__label {cursor: pointer;display: block;width: 100%;margin-bottom: 0;padding: 0.3em;box-sizing: border-box;text-align: center;}#sk-container-id-7 label.sk-toggleable__label-arrow:before {content: \"▸\";float: left;margin-right: 0.25em;color: #696969;}#sk-container-id-7 label.sk-toggleable__label-arrow:hover:before {color: black;}#sk-container-id-7 div.sk-estimator:hover label.sk-toggleable__label-arrow:before {color: black;}#sk-container-id-7 div.sk-toggleable__content {max-height: 0;max-width: 0;overflow: hidden;text-align: left;background-color: #f0f8ff;}#sk-container-id-7 div.sk-toggleable__content pre {margin: 0.2em;color: black;border-radius: 0.25em;background-color: #f0f8ff;}#sk-container-id-7 input.sk-toggleable__control:checked~div.sk-toggleable__content {max-height: 200px;max-width: 100%;overflow: auto;}#sk-container-id-7 input.sk-toggleable__control:checked~label.sk-toggleable__label-arrow:before {content: \"▾\";}#sk-container-id-7 div.sk-estimator input.sk-toggleable__control:checked~label.sk-toggleable__label {background-color: #d4ebff;}#sk-container-id-7 div.sk-label input.sk-toggleable__control:checked~label.sk-toggleable__label {background-color: #d4ebff;}#sk-container-id-7 input.sk-hidden--visually {border: 0;clip: rect(1px 1px 1px 1px);clip: rect(1px, 1px, 1px, 1px);height: 1px;margin: -1px;overflow: hidden;padding: 0;position: absolute;width: 1px;}#sk-container-id-7 div.sk-estimator {font-family: monospace;background-color: #f0f8ff;border: 1px dotted black;border-radius: 0.25em;box-sizing: border-box;margin-bottom: 0.5em;}#sk-container-id-7 div.sk-estimator:hover {background-color: #d4ebff;}#sk-container-id-7 div.sk-parallel-item::after {content: \"\";width: 100%;border-bottom: 1px solid gray;flex-grow: 1;}#sk-container-id-7 div.sk-label:hover label.sk-toggleable__label {background-color: #d4ebff;}#sk-container-id-7 div.sk-serial::before {content: \"\";position: absolute;border-left: 1px solid gray;box-sizing: border-box;top: 0;bottom: 0;left: 50%;z-index: 0;}#sk-container-id-7 div.sk-serial {display: flex;flex-direction: column;align-items: center;background-color: white;padding-right: 0.2em;padding-left: 0.2em;position: relative;}#sk-container-id-7 div.sk-item {position: relative;z-index: 1;}#sk-container-id-7 div.sk-parallel {display: flex;align-items: stretch;justify-content: center;background-color: white;position: relative;}#sk-container-id-7 div.sk-item::before, #sk-container-id-7 div.sk-parallel-item::before {content: \"\";position: absolute;border-left: 1px solid gray;box-sizing: border-box;top: 0;bottom: 0;left: 50%;z-index: -1;}#sk-container-id-7 div.sk-parallel-item {display: flex;flex-direction: column;z-index: 1;position: relative;background-color: white;}#sk-container-id-7 div.sk-parallel-item:first-child::after {align-self: flex-end;width: 50%;}#sk-container-id-7 div.sk-parallel-item:last-child::after {align-self: flex-start;width: 50%;}#sk-container-id-7 div.sk-parallel-item:only-child::after {width: 0;}#sk-container-id-7 div.sk-dashed-wrapped {border: 1px dashed gray;margin: 0 0.4em 0.5em 0.4em;box-sizing: border-box;padding-bottom: 0.4em;background-color: white;}#sk-container-id-7 div.sk-label label {font-family: monospace;font-weight: bold;display: inline-block;line-height: 1.2em;}#sk-container-id-7 div.sk-label-container {text-align: center;}#sk-container-id-7 div.sk-container {/* jupyter's `normalize.less` sets `[hidden] { display: none; }` but bootstrap.min.css set `[hidden] { display: none !important; }` so we also need the `!important` here to be able to override the default hidden behavior on the sphinx rendered scikit-learn.org. See: https://github.com/scikit-learn/scikit-learn/issues/21755 */display: inline-block !important;position: relative;}#sk-container-id-7 div.sk-text-repr-fallback {display: none;}</style><div id=\"sk-container-id-7\" class=\"sk-top-container\"><div class=\"sk-text-repr-fallback\"><pre>Lasso(alpha=27.50328326187841, max_iter=100000)</pre><b>In a Jupyter environment, please rerun this cell to show the HTML representation or trust the notebook. <br />On GitHub, the HTML representation is unable to render, please try loading this page with nbviewer.org.</b></div><div class=\"sk-container\" hidden><div class=\"sk-item\"><div class=\"sk-estimator sk-toggleable\"><input class=\"sk-toggleable__control sk-hidden--visually\" id=\"sk-estimator-id-7\" type=\"checkbox\" checked><label for=\"sk-estimator-id-7\" class=\"sk-toggleable__label sk-toggleable__label-arrow\">Lasso</label><div class=\"sk-toggleable__content\"><pre>Lasso(alpha=27.50328326187841, max_iter=100000)</pre></div></div></div></div></div>"
      ],
      "text/plain": [
       "Lasso(alpha=27.50328326187841, max_iter=100000)"
      ]
     },
     "execution_count": 76,
     "metadata": {},
     "output_type": "execute_result"
    }
   ],
   "source": [
    "lasso.set_params(alpha=lassocv.alpha_)"
   ]
  },
  {
   "cell_type": "code",
   "execution_count": 77,
   "id": "33efe8c7",
   "metadata": {},
   "outputs": [
    {
     "data": {
      "text/html": [
       "<style>#sk-container-id-8 {color: black;}#sk-container-id-8 pre{padding: 0;}#sk-container-id-8 div.sk-toggleable {background-color: white;}#sk-container-id-8 label.sk-toggleable__label {cursor: pointer;display: block;width: 100%;margin-bottom: 0;padding: 0.3em;box-sizing: border-box;text-align: center;}#sk-container-id-8 label.sk-toggleable__label-arrow:before {content: \"▸\";float: left;margin-right: 0.25em;color: #696969;}#sk-container-id-8 label.sk-toggleable__label-arrow:hover:before {color: black;}#sk-container-id-8 div.sk-estimator:hover label.sk-toggleable__label-arrow:before {color: black;}#sk-container-id-8 div.sk-toggleable__content {max-height: 0;max-width: 0;overflow: hidden;text-align: left;background-color: #f0f8ff;}#sk-container-id-8 div.sk-toggleable__content pre {margin: 0.2em;color: black;border-radius: 0.25em;background-color: #f0f8ff;}#sk-container-id-8 input.sk-toggleable__control:checked~div.sk-toggleable__content {max-height: 200px;max-width: 100%;overflow: auto;}#sk-container-id-8 input.sk-toggleable__control:checked~label.sk-toggleable__label-arrow:before {content: \"▾\";}#sk-container-id-8 div.sk-estimator input.sk-toggleable__control:checked~label.sk-toggleable__label {background-color: #d4ebff;}#sk-container-id-8 div.sk-label input.sk-toggleable__control:checked~label.sk-toggleable__label {background-color: #d4ebff;}#sk-container-id-8 input.sk-hidden--visually {border: 0;clip: rect(1px 1px 1px 1px);clip: rect(1px, 1px, 1px, 1px);height: 1px;margin: -1px;overflow: hidden;padding: 0;position: absolute;width: 1px;}#sk-container-id-8 div.sk-estimator {font-family: monospace;background-color: #f0f8ff;border: 1px dotted black;border-radius: 0.25em;box-sizing: border-box;margin-bottom: 0.5em;}#sk-container-id-8 div.sk-estimator:hover {background-color: #d4ebff;}#sk-container-id-8 div.sk-parallel-item::after {content: \"\";width: 100%;border-bottom: 1px solid gray;flex-grow: 1;}#sk-container-id-8 div.sk-label:hover label.sk-toggleable__label {background-color: #d4ebff;}#sk-container-id-8 div.sk-serial::before {content: \"\";position: absolute;border-left: 1px solid gray;box-sizing: border-box;top: 0;bottom: 0;left: 50%;z-index: 0;}#sk-container-id-8 div.sk-serial {display: flex;flex-direction: column;align-items: center;background-color: white;padding-right: 0.2em;padding-left: 0.2em;position: relative;}#sk-container-id-8 div.sk-item {position: relative;z-index: 1;}#sk-container-id-8 div.sk-parallel {display: flex;align-items: stretch;justify-content: center;background-color: white;position: relative;}#sk-container-id-8 div.sk-item::before, #sk-container-id-8 div.sk-parallel-item::before {content: \"\";position: absolute;border-left: 1px solid gray;box-sizing: border-box;top: 0;bottom: 0;left: 50%;z-index: -1;}#sk-container-id-8 div.sk-parallel-item {display: flex;flex-direction: column;z-index: 1;position: relative;background-color: white;}#sk-container-id-8 div.sk-parallel-item:first-child::after {align-self: flex-end;width: 50%;}#sk-container-id-8 div.sk-parallel-item:last-child::after {align-self: flex-start;width: 50%;}#sk-container-id-8 div.sk-parallel-item:only-child::after {width: 0;}#sk-container-id-8 div.sk-dashed-wrapped {border: 1px dashed gray;margin: 0 0.4em 0.5em 0.4em;box-sizing: border-box;padding-bottom: 0.4em;background-color: white;}#sk-container-id-8 div.sk-label label {font-family: monospace;font-weight: bold;display: inline-block;line-height: 1.2em;}#sk-container-id-8 div.sk-label-container {text-align: center;}#sk-container-id-8 div.sk-container {/* jupyter's `normalize.less` sets `[hidden] { display: none; }` but bootstrap.min.css set `[hidden] { display: none !important; }` so we also need the `!important` here to be able to override the default hidden behavior on the sphinx rendered scikit-learn.org. See: https://github.com/scikit-learn/scikit-learn/issues/21755 */display: inline-block !important;position: relative;}#sk-container-id-8 div.sk-text-repr-fallback {display: none;}</style><div id=\"sk-container-id-8\" class=\"sk-top-container\"><div class=\"sk-text-repr-fallback\"><pre>Lasso(alpha=27.50328326187841, max_iter=100000)</pre><b>In a Jupyter environment, please rerun this cell to show the HTML representation or trust the notebook. <br />On GitHub, the HTML representation is unable to render, please try loading this page with nbviewer.org.</b></div><div class=\"sk-container\" hidden><div class=\"sk-item\"><div class=\"sk-estimator sk-toggleable\"><input class=\"sk-toggleable__control sk-hidden--visually\" id=\"sk-estimator-id-8\" type=\"checkbox\" checked><label for=\"sk-estimator-id-8\" class=\"sk-toggleable__label sk-toggleable__label-arrow\">Lasso</label><div class=\"sk-toggleable__content\"><pre>Lasso(alpha=27.50328326187841, max_iter=100000)</pre></div></div></div></div></div>"
      ],
      "text/plain": [
       "Lasso(alpha=27.50328326187841, max_iter=100000)"
      ]
     },
     "execution_count": 77,
     "metadata": {},
     "output_type": "execute_result"
    }
   ],
   "source": [
    "lasso.fit(scaler.fit_transform(X_train), y_train)"
   ]
  },
  {
   "cell_type": "code",
   "execution_count": 78,
   "id": "3fc813a6",
   "metadata": {},
   "outputs": [
    {
     "data": {
      "text/plain": [
       "106183.71692611946"
      ]
     },
     "execution_count": 78,
     "metadata": {},
     "output_type": "execute_result"
    }
   ],
   "source": [
    "mean_squared_error(y_test, lasso.predict(scaler.fit_transform(X_test)))"
   ]
  },
  {
   "cell_type": "code",
   "execution_count": 79,
   "id": "25d41c61",
   "metadata": {},
   "outputs": [
    {
     "data": {
      "text/plain": [
       "AtBat            0.000000\n",
       "Hits            50.246197\n",
       "HmRun            0.000000\n",
       "Runs             0.000000\n",
       "RBI              0.000000\n",
       "Walks           66.794424\n",
       "Years            0.000000\n",
       "CAtBat           0.000000\n",
       "CHits            0.000000\n",
       "CHmRun          19.441152\n",
       "CRuns            0.000000\n",
       "CRBI           181.336557\n",
       "CWalks           0.000000\n",
       "PutOuts        110.307327\n",
       "Assists         -0.000000\n",
       "Errors          -0.000000\n",
       "League_N         0.000000\n",
       "Division_W     -44.530872\n",
       "NewLeague_N      0.000000\n",
       "dtype: float64"
      ]
     },
     "execution_count": 79,
     "metadata": {},
     "output_type": "execute_result"
    }
   ],
   "source": [
    "pd.Series(lasso.coef_, index=X.columns)"
   ]
  },
  {
   "cell_type": "markdown",
   "id": "c9cea15e",
   "metadata": {},
   "source": [
    "## Coefficient !=0"
   ]
  },
  {
   "cell_type": "code",
   "execution_count": 80,
   "id": "dce7886a",
   "metadata": {},
   "outputs": [
    {
     "data": {
      "text/plain": [
       "Hits           50.246197\n",
       "Walks          66.794424\n",
       "CHmRun         19.441152\n",
       "CRBI          181.336557\n",
       "PutOuts       110.307327\n",
       "Division_W    -44.530872\n",
       "dtype: float64"
      ]
     },
     "execution_count": 80,
     "metadata": {},
     "output_type": "execute_result"
    }
   ],
   "source": [
    "pd.Series(lasso.coef_[lasso.coef_ !=0], index=X.columns[lasso.coef_ !=0])"
   ]
  },
  {
   "cell_type": "markdown",
   "id": "7a6b5dbd",
   "metadata": {},
   "source": [
    "## Principal Component Analysis "
   ]
  },
  {
   "cell_type": "markdown",
   "id": "dd1ad46f",
   "metadata": {},
   "source": [
    "### Import Libraries"
   ]
  },
  {
   "cell_type": "code",
   "execution_count": 81,
   "id": "e189fe35",
   "metadata": {},
   "outputs": [],
   "source": [
    "from sklearn.preprocessing import scale"
   ]
  },
  {
   "cell_type": "code",
   "execution_count": 82,
   "id": "d4f004da",
   "metadata": {},
   "outputs": [],
   "source": [
    "from sklearn.decomposition import PCA"
   ]
  },
  {
   "cell_type": "code",
   "execution_count": 83,
   "id": "23b08526",
   "metadata": {},
   "outputs": [],
   "source": [
    "from sklearn.model_selection import KFold, cross_val_score "
   ]
  },
  {
   "cell_type": "code",
   "execution_count": 84,
   "id": "d0320fdb",
   "metadata": {},
   "outputs": [],
   "source": [
    "from sklearn.linear_model import LinearRegression "
   ]
  },
  {
   "cell_type": "code",
   "execution_count": 85,
   "id": "64a7c2bb",
   "metadata": {},
   "outputs": [],
   "source": [
    "from sklearn.metrics import mean_squared_error "
   ]
  },
  {
   "cell_type": "markdown",
   "id": "422ae9ef",
   "metadata": {},
   "source": [
    "### Principal Components"
   ]
  },
  {
   "cell_type": "code",
   "execution_count": 86,
   "id": "30649603",
   "metadata": {},
   "outputs": [],
   "source": [
    "pca = PCA()"
   ]
  },
  {
   "cell_type": "code",
   "execution_count": 87,
   "id": "015c56b8",
   "metadata": {},
   "outputs": [],
   "source": [
    "X_pca_reduced = pca.fit_transform(scale(X))"
   ]
  },
  {
   "cell_type": "code",
   "execution_count": 88,
   "id": "790b15fc",
   "metadata": {},
   "outputs": [
    {
     "name": "stdout",
     "output_type": "stream",
     "text": [
      "(19, 19)\n"
     ]
    }
   ],
   "source": [
    "print(pca.components_.shape)"
   ]
  },
  {
   "cell_type": "code",
   "execution_count": 89,
   "id": "8548f261",
   "metadata": {},
   "outputs": [
    {
     "data": {
      "text/html": [
       "<div>\n",
       "<style scoped>\n",
       "    .dataframe tbody tr th:only-of-type {\n",
       "        vertical-align: middle;\n",
       "    }\n",
       "\n",
       "    .dataframe tbody tr th {\n",
       "        vertical-align: top;\n",
       "    }\n",
       "\n",
       "    .dataframe thead th {\n",
       "        text-align: right;\n",
       "    }\n",
       "</style>\n",
       "<table border=\"1\" class=\"dataframe\">\n",
       "  <thead>\n",
       "    <tr style=\"text-align: right;\">\n",
       "      <th></th>\n",
       "      <th>0</th>\n",
       "      <th>1</th>\n",
       "      <th>2</th>\n",
       "      <th>3</th>\n",
       "      <th>4</th>\n",
       "    </tr>\n",
       "  </thead>\n",
       "  <tbody>\n",
       "    <tr>\n",
       "      <th>0</th>\n",
       "      <td>0.198290</td>\n",
       "      <td>-0.383784</td>\n",
       "      <td>0.088626</td>\n",
       "      <td>0.031967</td>\n",
       "      <td>0.028117</td>\n",
       "    </tr>\n",
       "    <tr>\n",
       "      <th>1</th>\n",
       "      <td>0.195861</td>\n",
       "      <td>-0.377271</td>\n",
       "      <td>0.074032</td>\n",
       "      <td>0.017982</td>\n",
       "      <td>-0.004652</td>\n",
       "    </tr>\n",
       "    <tr>\n",
       "      <th>2</th>\n",
       "      <td>0.204369</td>\n",
       "      <td>-0.237136</td>\n",
       "      <td>-0.216186</td>\n",
       "      <td>-0.235831</td>\n",
       "      <td>0.077660</td>\n",
       "    </tr>\n",
       "    <tr>\n",
       "      <th>3</th>\n",
       "      <td>0.198337</td>\n",
       "      <td>-0.377721</td>\n",
       "      <td>-0.017166</td>\n",
       "      <td>-0.049942</td>\n",
       "      <td>-0.038536</td>\n",
       "    </tr>\n",
       "    <tr>\n",
       "      <th>4</th>\n",
       "      <td>0.235174</td>\n",
       "      <td>-0.314531</td>\n",
       "      <td>-0.073085</td>\n",
       "      <td>-0.138985</td>\n",
       "      <td>0.024299</td>\n",
       "    </tr>\n",
       "  </tbody>\n",
       "</table>\n",
       "</div>"
      ],
      "text/plain": [
       "          0         1         2         3         4\n",
       "0  0.198290 -0.383784  0.088626  0.031967  0.028117\n",
       "1  0.195861 -0.377271  0.074032  0.017982 -0.004652\n",
       "2  0.204369 -0.237136 -0.216186 -0.235831  0.077660\n",
       "3  0.198337 -0.377721 -0.017166 -0.049942 -0.038536\n",
       "4  0.235174 -0.314531 -0.073085 -0.138985  0.024299"
      ]
     },
     "execution_count": 89,
     "metadata": {},
     "output_type": "execute_result"
    }
   ],
   "source": [
    "pd.DataFrame(pca.components_.T).loc[:4,:4]"
   ]
  },
  {
   "cell_type": "markdown",
   "id": "daf397af",
   "metadata": {},
   "source": [
    "### Principal Components Variance Explained"
   ]
  },
  {
   "cell_type": "code",
   "execution_count": 90,
   "id": "f0cac5a6",
   "metadata": {},
   "outputs": [
    {
     "data": {
      "text/plain": [
       "array([38.31, 60.15, 70.84, 79.03, 84.29, 88.63, 92.26, 94.96, 96.28,\n",
       "       97.25, 97.97, 98.64, 99.14, 99.46, 99.73, 99.88, 99.95, 99.98,\n",
       "       99.99])"
      ]
     },
     "execution_count": 90,
     "metadata": {},
     "output_type": "execute_result"
    }
   ],
   "source": [
    "np.cumsum(np.round(pca.explained_variance_ratio_, decimals=4)*100)"
   ]
  },
  {
   "cell_type": "markdown",
   "id": "9e09f715",
   "metadata": {},
   "source": [
    "### Implement PCA"
   ]
  },
  {
   "cell_type": "code",
   "execution_count": 91,
   "id": "23317b98",
   "metadata": {},
   "outputs": [],
   "source": [
    "pca_t = PCA() "
   ]
  },
  {
   "cell_type": "code",
   "execution_count": 92,
   "id": "62982733",
   "metadata": {},
   "outputs": [],
   "source": [
    "X_train_reduced_pca = pca_t.fit_transform(scale(X_train))"
   ]
  },
  {
   "cell_type": "code",
   "execution_count": 93,
   "id": "b858ada8",
   "metadata": {},
   "outputs": [],
   "source": [
    "n = len(X_train_reduced_pca)"
   ]
  },
  {
   "cell_type": "code",
   "execution_count": 94,
   "id": "a1fdf7fe",
   "metadata": {},
   "outputs": [],
   "source": [
    "kfold10 = KFold(n_splits=10)"
   ]
  },
  {
   "cell_type": "code",
   "execution_count": 95,
   "id": "4eaf8be0",
   "metadata": {},
   "outputs": [],
   "source": [
    "lm_regr = LinearRegression()"
   ]
  },
  {
   "cell_type": "code",
   "execution_count": 96,
   "id": "14fc1859",
   "metadata": {},
   "outputs": [],
   "source": [
    "mse = []"
   ]
  },
  {
   "cell_type": "code",
   "execution_count": 97,
   "id": "c62cbe4a",
   "metadata": {},
   "outputs": [],
   "source": [
    "tr_score = -1*cross_val_score(lm_regr, np.ones((n,1)),y_train, cv=kfold10, scoring='neg_mean_squared_error').mean()"
   ]
  },
  {
   "cell_type": "code",
   "execution_count": 98,
   "id": "9c9562a8",
   "metadata": {},
   "outputs": [],
   "source": [
    "mse.append(tr_score) "
   ]
  },
  {
   "cell_type": "code",
   "execution_count": 100,
   "id": "990292e0",
   "metadata": {},
   "outputs": [],
   "source": [
    "for i in np.arange(1, 20):\n",
    "    tr_score = -1*cross_val_score(lm_regr, X_train_reduced_pca[:,:i], y_train, cv=kfold10, scoring='neg_mean_squared_error').mean()\n",
    "    mse.append(tr_score) "
   ]
  },
  {
   "cell_type": "code",
   "execution_count": 103,
   "id": "47c32a1a",
   "metadata": {},
   "outputs": [
    {
     "data": {
      "text/plain": [
       "[]"
      ]
     },
     "execution_count": 103,
     "metadata": {},
     "output_type": "execute_result"
    },
    {
     "data": {
      "image/png": "[encoded data removed]",
      "text/plain": [
       "<Figure size 640x480 with 1 Axes>"
      ]
     },
     "metadata": {},
     "output_type": "display_data"
    }
   ],
   "source": [
    "plt.plot(mse, '-v') \n",
    "plt.xlabel('Number of principal components in regression') \n",
    "plt.ylabel('MSE')\n",
    "plt.title('Player Salary') \n",
    "plt.xlim(xmin=-1); \n",
    "plt.plot()"
   ]
  },
  {
   "cell_type": "markdown",
   "id": "4df1d46c",
   "metadata": {},
   "source": [
    "### MSE for Each Component"
   ]
  },
  {
   "cell_type": "code",
   "execution_count": 104,
   "id": "bd644597",
   "metadata": {},
   "outputs": [],
   "source": [
    "mse_each_comp=pd.Series(np.array(mse).flatten(), index = np.arange(1,21)) "
   ]
  },
  {
   "cell_type": "code",
   "execution_count": 105,
   "id": "63386389",
   "metadata": {},
   "outputs": [
    {
     "data": {
      "text/plain": [
       "1     235406.619100\n",
       "2     144310.329851\n",
       "3     141961.097915\n",
       "4     142493.549431\n",
       "5     143287.577720\n",
       "6     134376.466736\n",
       "7     129143.405002\n",
       "8     131571.376294\n",
       "9     135335.186049\n",
       "10    138904.079492\n",
       "11    149674.333623\n",
       "12    150179.569822\n",
       "13    152739.781510\n",
       "14    154371.214873\n",
       "15    164099.596798\n",
       "16    154067.909113\n",
       "17    147843.866699\n",
       "18    154154.156968\n",
       "19    148268.507015\n",
       "20    150176.362589\n",
       "dtype: float64"
      ]
     },
     "execution_count": 105,
     "metadata": {},
     "output_type": "execute_result"
    }
   ],
   "source": [
    "mse_each_comp"
   ]
  },
  {
   "cell_type": "markdown",
   "id": "d9e09a63",
   "metadata": {},
   "source": [
    "### Minimum MSE"
   ]
  },
  {
   "cell_type": "code",
   "execution_count": 106,
   "id": "06f910a1",
   "metadata": {},
   "outputs": [
    {
     "data": {
      "text/plain": [
       "129143.40500200151"
      ]
     },
     "execution_count": 106,
     "metadata": {},
     "output_type": "execute_result"
    }
   ],
   "source": [
    "np.amin(mse_each_comp) "
   ]
  },
  {
   "cell_type": "markdown",
   "id": "b8a85609",
   "metadata": {},
   "source": [
    "## Regression Model with Reduced Components"
   ]
  },
  {
   "cell_type": "code",
   "execution_count": 107,
   "id": "b1a27443",
   "metadata": {},
   "outputs": [],
   "source": [
    "X_test_reduced_pca = pca_t.transform(scale(X_test))[:,:7] "
   ]
  },
  {
   "cell_type": "code",
   "execution_count": 108,
   "id": "f262b11b",
   "metadata": {},
   "outputs": [],
   "source": [
    "regr = LinearRegression()"
   ]
  },
  {
   "cell_type": "code",
   "execution_count": 109,
   "id": "8c015b6c",
   "metadata": {},
   "outputs": [
    {
     "data": {
      "text/html": [
       "<style>#sk-container-id-9 {color: black;}#sk-container-id-9 pre{padding: 0;}#sk-container-id-9 div.sk-toggleable {background-color: white;}#sk-container-id-9 label.sk-toggleable__label {cursor: pointer;display: block;width: 100%;margin-bottom: 0;padding: 0.3em;box-sizing: border-box;text-align: center;}#sk-container-id-9 label.sk-toggleable__label-arrow:before {content: \"▸\";float: left;margin-right: 0.25em;color: #696969;}#sk-container-id-9 label.sk-toggleable__label-arrow:hover:before {color: black;}#sk-container-id-9 div.sk-estimator:hover label.sk-toggleable__label-arrow:before {color: black;}#sk-container-id-9 div.sk-toggleable__content {max-height: 0;max-width: 0;overflow: hidden;text-align: left;background-color: #f0f8ff;}#sk-container-id-9 div.sk-toggleable__content pre {margin: 0.2em;color: black;border-radius: 0.25em;background-color: #f0f8ff;}#sk-container-id-9 input.sk-toggleable__control:checked~div.sk-toggleable__content {max-height: 200px;max-width: 100%;overflow: auto;}#sk-container-id-9 input.sk-toggleable__control:checked~label.sk-toggleable__label-arrow:before {content: \"▾\";}#sk-container-id-9 div.sk-estimator input.sk-toggleable__control:checked~label.sk-toggleable__label {background-color: #d4ebff;}#sk-container-id-9 div.sk-label input.sk-toggleable__control:checked~label.sk-toggleable__label {background-color: #d4ebff;}#sk-container-id-9 input.sk-hidden--visually {border: 0;clip: rect(1px 1px 1px 1px);clip: rect(1px, 1px, 1px, 1px);height: 1px;margin: -1px;overflow: hidden;padding: 0;position: absolute;width: 1px;}#sk-container-id-9 div.sk-estimator {font-family: monospace;background-color: #f0f8ff;border: 1px dotted black;border-radius: 0.25em;box-sizing: border-box;margin-bottom: 0.5em;}#sk-container-id-9 div.sk-estimator:hover {background-color: #d4ebff;}#sk-container-id-9 div.sk-parallel-item::after {content: \"\";width: 100%;border-bottom: 1px solid gray;flex-grow: 1;}#sk-container-id-9 div.sk-label:hover label.sk-toggleable__label {background-color: #d4ebff;}#sk-container-id-9 div.sk-serial::before {content: \"\";position: absolute;border-left: 1px solid gray;box-sizing: border-box;top: 0;bottom: 0;left: 50%;z-index: 0;}#sk-container-id-9 div.sk-serial {display: flex;flex-direction: column;align-items: center;background-color: white;padding-right: 0.2em;padding-left: 0.2em;position: relative;}#sk-container-id-9 div.sk-item {position: relative;z-index: 1;}#sk-container-id-9 div.sk-parallel {display: flex;align-items: stretch;justify-content: center;background-color: white;position: relative;}#sk-container-id-9 div.sk-item::before, #sk-container-id-9 div.sk-parallel-item::before {content: \"\";position: absolute;border-left: 1px solid gray;box-sizing: border-box;top: 0;bottom: 0;left: 50%;z-index: -1;}#sk-container-id-9 div.sk-parallel-item {display: flex;flex-direction: column;z-index: 1;position: relative;background-color: white;}#sk-container-id-9 div.sk-parallel-item:first-child::after {align-self: flex-end;width: 50%;}#sk-container-id-9 div.sk-parallel-item:last-child::after {align-self: flex-start;width: 50%;}#sk-container-id-9 div.sk-parallel-item:only-child::after {width: 0;}#sk-container-id-9 div.sk-dashed-wrapped {border: 1px dashed gray;margin: 0 0.4em 0.5em 0.4em;box-sizing: border-box;padding-bottom: 0.4em;background-color: white;}#sk-container-id-9 div.sk-label label {font-family: monospace;font-weight: bold;display: inline-block;line-height: 1.2em;}#sk-container-id-9 div.sk-label-container {text-align: center;}#sk-container-id-9 div.sk-container {/* jupyter's `normalize.less` sets `[hidden] { display: none; }` but bootstrap.min.css set `[hidden] { display: none !important; }` so we also need the `!important` here to be able to override the default hidden behavior on the sphinx rendered scikit-learn.org. See: https://github.com/scikit-learn/scikit-learn/issues/21755 */display: inline-block !important;position: relative;}#sk-container-id-9 div.sk-text-repr-fallback {display: none;}</style><div id=\"sk-container-id-9\" class=\"sk-top-container\"><div class=\"sk-text-repr-fallback\"><pre>LinearRegression()</pre><b>In a Jupyter environment, please rerun this cell to show the HTML representation or trust the notebook. <br />On GitHub, the HTML representation is unable to render, please try loading this page with nbviewer.org.</b></div><div class=\"sk-container\" hidden><div class=\"sk-item\"><div class=\"sk-estimator sk-toggleable\"><input class=\"sk-toggleable__control sk-hidden--visually\" id=\"sk-estimator-id-9\" type=\"checkbox\" checked><label for=\"sk-estimator-id-9\" class=\"sk-toggleable__label sk-toggleable__label-arrow\">LinearRegression</label><div class=\"sk-toggleable__content\"><pre>LinearRegression()</pre></div></div></div></div></div>"
      ],
      "text/plain": [
       "LinearRegression()"
      ]
     },
     "execution_count": 109,
     "metadata": {},
     "output_type": "execute_result"
    }
   ],
   "source": [
    "regr.fit(X_train_reduced_pca[:,:7], y_train)"
   ]
  },
  {
   "cell_type": "code",
   "execution_count": 110,
   "id": "4fd104cd",
   "metadata": {},
   "outputs": [],
   "source": [
    "pred = regr.predict(X_test_reduced_pca) "
   ]
  },
  {
   "cell_type": "code",
   "execution_count": 111,
   "id": "f9d44ce5",
   "metadata": {},
   "outputs": [
    {
     "data": {
      "text/plain": [
       "111994.42273636992"
      ]
     },
     "execution_count": 111,
     "metadata": {},
     "output_type": "execute_result"
    }
   ],
   "source": [
    "mean_squared_error(y_test, pred) "
   ]
  },
  {
   "cell_type": "code",
   "execution_count": 112,
   "id": "5ff976e1",
   "metadata": {},
   "outputs": [
    {
     "data": {
      "text/plain": [
       "array([111.65854316, -31.45724128,  29.39674508, -27.26877462,\n",
       "       -94.69732568,  96.48700437, -49.67311542])"
      ]
     },
     "execution_count": 112,
     "metadata": {},
     "output_type": "execute_result"
    }
   ],
   "source": [
    "regr.coef_ "
   ]
  },
  {
   "cell_type": "code",
   "execution_count": null,
   "id": "a4e7d4a9",
   "metadata": {},
   "outputs": [],
   "source": []
  }
 ],
 "metadata": {
  "kernelspec": {
   "display_name": "Python 3 (ipykernel)",
   "language": "python",
   "name": "python3"
  },
  "language_info": {
   "codemirror_mode": {
    "name": "ipython",
    "version": 3
   },
   "file_extension": ".py",
   "mimetype": "text/x-python",
   "name": "python",
   "nbconvert_exporter": "python",
   "pygments_lexer": "ipython3",
   "version": "3.11.4"
  }
 },
 "nbformat": 4,
 "nbformat_minor": 5
}
